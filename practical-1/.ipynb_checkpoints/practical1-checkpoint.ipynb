{
 "cells": [
  {
   "cell_type": "markdown",
   "metadata": {},
   "source": [
    "## Practical 1: word2vec\n",
    "<p>Oxford CS - Deep NLP 2017<br>\n",
    "https://www.cs.ox.ac.uk/teaching/courses/2016-2017/dl/</p>\n",
    "<p>[Yannis Assael, Brendan Shillingford, Chris Dyer]</p>"
   ]
  },
  {
   "cell_type": "markdown",
   "metadata": {},
   "source": [
    "This practical is presented as an IPython Notebook, with the code written for recent versions of **Python 3**. **The code in this practical will not work with Python 2 unless you modify it.** If you are using your own Python installation, ensure you have a setup identical to that described in the installation shell script (which is intended for use with the department lab machines). We will be unable to support installation on personal machines due to time constraints, so please use the lab machines and the setup script if you are unfamiliar with how to install Anaconda.\n",
    "\n",
    "To execute a notebook cell, press `shift-enter`. The return value of the last command will be displayed, if it is not `None`.\n",
    "\n",
    "Potentially useful library documentation, references, and resources:\n",
    "\n",
    "* IPython notebooks: <https://ipython.org/ipython-doc/3/notebook/notebook.html#introduction>\n",
    "* Numpy numerical array library: <https://docs.scipy.org/doc/>\n",
    "* Gensim's word2vec: <https://radimrehurek.com/gensim/models/word2vec.html>\n",
    "* Bokeh interactive plots: <http://bokeh.pydata.org/en/latest/> (we provide plotting code here, but click the thumbnails for more examples to copy-paste)\n",
    "* scikit-learn ML library (aka `sklearn`): <http://scikit-learn.org/stable/documentation.html>\n",
    "* nltk NLP toolkit: <http://www.nltk.org/>\n",
    "* tutorial for processing xml in python using `lxml`: <http://lxml.de/tutorial.html> (we did this for you below, but in case you need it in the future)"
   ]
  },
  {
   "cell_type": "code",
   "execution_count": 1,
   "metadata": {
    "collapsed": true
   },
   "outputs": [],
   "source": [
    "# -*- coding: utf-8 -*-\n",
    "# NOTE:\n",
    "# The original code has been modified from python3 to python2 as I installed anaconda with python2 before,\n",
    "# so the following code should be run on python2 instead of python3\n",
    "\n",
    "import numpy as np\n",
    "import os\n",
    "from random import shuffle\n",
    "import re"
   ]
  },
  {
   "cell_type": "code",
   "execution_count": 2,
   "metadata": {},
   "outputs": [
    {
     "data": {
      "text/html": [
       "\n",
       "    <div class=\"bk-root\">\n",
       "        <a href=\"http://bokeh.pydata.org\" target=\"_blank\" class=\"bk-logo bk-logo-small bk-logo-notebook\"></a>\n",
       "        <span id=\"b526223d-1170-41a5-9c3d-78137ff5e08a\">Loading BokehJS ...</span>\n",
       "    </div>"
      ]
     },
     "metadata": {},
     "output_type": "display_data"
    },
    {
     "data": {
      "application/javascript": [
       "\n",
       "(function(global) {\n",
       "  function now() {\n",
       "    return new Date();\n",
       "  }\n",
       "\n",
       "  var force = true;\n",
       "\n",
       "  if (typeof (window._bokeh_onload_callbacks) === \"undefined\" || force === true) {\n",
       "    window._bokeh_onload_callbacks = [];\n",
       "    window._bokeh_is_loading = undefined;\n",
       "  }\n",
       "\n",
       "\n",
       "  \n",
       "  if (typeof (window._bokeh_timeout) === \"undefined\" || force === true) {\n",
       "    window._bokeh_timeout = Date.now() + 5000;\n",
       "    window._bokeh_failed_load = false;\n",
       "  }\n",
       "\n",
       "  var NB_LOAD_WARNING = {'data': {'text/html':\n",
       "     \"<div style='background-color: #fdd'>\\n\"+\n",
       "     \"<p>\\n\"+\n",
       "     \"BokehJS does not appear to have successfully loaded. If loading BokehJS from CDN, this \\n\"+\n",
       "     \"may be due to a slow or bad network connection. Possible fixes:\\n\"+\n",
       "     \"</p>\\n\"+\n",
       "     \"<ul>\\n\"+\n",
       "     \"<li>re-rerun `output_notebook()` to attempt to load from CDN again, or</li>\\n\"+\n",
       "     \"<li>use INLINE resources instead, as so:</li>\\n\"+\n",
       "     \"</ul>\\n\"+\n",
       "     \"<code>\\n\"+\n",
       "     \"from bokeh.resources import INLINE\\n\"+\n",
       "     \"output_notebook(resources=INLINE)\\n\"+\n",
       "     \"</code>\\n\"+\n",
       "     \"</div>\"}};\n",
       "\n",
       "  function display_loaded() {\n",
       "    if (window.Bokeh !== undefined) {\n",
       "      var el = document.getElementById(\"b526223d-1170-41a5-9c3d-78137ff5e08a\");\n",
       "      el.textContent = \"BokehJS \" + Bokeh.version + \" successfully loaded.\";\n",
       "    } else if (Date.now() < window._bokeh_timeout) {\n",
       "      setTimeout(display_loaded, 100)\n",
       "    }\n",
       "  }\n",
       "\n",
       "  function run_callbacks() {\n",
       "    try {\n",
       "      window._bokeh_onload_callbacks.forEach(function(callback) { callback() });\n",
       "    }\n",
       "    finally {\n",
       "      delete window._bokeh_onload_callbacks\n",
       "    }\n",
       "    console.info(\"Bokeh: all callbacks have finished\");\n",
       "  }\n",
       "\n",
       "  function load_libs(js_urls, callback) {\n",
       "    window._bokeh_onload_callbacks.push(callback);\n",
       "    if (window._bokeh_is_loading > 0) {\n",
       "      console.log(\"Bokeh: BokehJS is being loaded, scheduling callback at\", now());\n",
       "      return null;\n",
       "    }\n",
       "    if (js_urls == null || js_urls.length === 0) {\n",
       "      run_callbacks();\n",
       "      return null;\n",
       "    }\n",
       "    console.log(\"Bokeh: BokehJS not loaded, scheduling load and callback at\", now());\n",
       "    window._bokeh_is_loading = js_urls.length;\n",
       "    for (var i = 0; i < js_urls.length; i++) {\n",
       "      var url = js_urls[i];\n",
       "      var s = document.createElement('script');\n",
       "      s.src = url;\n",
       "      s.async = false;\n",
       "      s.onreadystatechange = s.onload = function() {\n",
       "        window._bokeh_is_loading--;\n",
       "        if (window._bokeh_is_loading === 0) {\n",
       "          console.log(\"Bokeh: all BokehJS libraries loaded\");\n",
       "          run_callbacks()\n",
       "        }\n",
       "      };\n",
       "      s.onerror = function() {\n",
       "        console.warn(\"failed to load library \" + url);\n",
       "      };\n",
       "      console.log(\"Bokeh: injecting script tag for BokehJS library: \", url);\n",
       "      document.getElementsByTagName(\"head\")[0].appendChild(s);\n",
       "    }\n",
       "  };var element = document.getElementById(\"b526223d-1170-41a5-9c3d-78137ff5e08a\");\n",
       "  if (element == null) {\n",
       "    console.log(\"Bokeh: ERROR: autoload.js configured with elementid 'b526223d-1170-41a5-9c3d-78137ff5e08a' but no matching script tag was found. \")\n",
       "    return false;\n",
       "  }\n",
       "\n",
       "  var js_urls = [\"https://cdn.pydata.org/bokeh/release/bokeh-0.12.6.min.js\", \"https://cdn.pydata.org/bokeh/release/bokeh-widgets-0.12.6.min.js\"];\n",
       "\n",
       "  var inline_js = [\n",
       "    function(Bokeh) {\n",
       "      Bokeh.set_log_level(\"info\");\n",
       "    },\n",
       "    \n",
       "    function(Bokeh) {\n",
       "      \n",
       "    },\n",
       "    \n",
       "    function(Bokeh) {\n",
       "      \n",
       "      document.getElementById(\"b526223d-1170-41a5-9c3d-78137ff5e08a\").textContent = \"BokehJS is loading...\";\n",
       "    },\n",
       "    function(Bokeh) {\n",
       "      console.log(\"Bokeh: injecting CSS: https://cdn.pydata.org/bokeh/release/bokeh-0.12.6.min.css\");\n",
       "      Bokeh.embed.inject_css(\"https://cdn.pydata.org/bokeh/release/bokeh-0.12.6.min.css\");\n",
       "      console.log(\"Bokeh: injecting CSS: https://cdn.pydata.org/bokeh/release/bokeh-widgets-0.12.6.min.css\");\n",
       "      Bokeh.embed.inject_css(\"https://cdn.pydata.org/bokeh/release/bokeh-widgets-0.12.6.min.css\");\n",
       "    }\n",
       "  ];\n",
       "\n",
       "  function run_inline_js() {\n",
       "    \n",
       "    if ((window.Bokeh !== undefined) || (force === true)) {\n",
       "      for (var i = 0; i < inline_js.length; i++) {\n",
       "        inline_js[i](window.Bokeh);\n",
       "      }if (force === true) {\n",
       "        display_loaded();\n",
       "      }} else if (Date.now() < window._bokeh_timeout) {\n",
       "      setTimeout(run_inline_js, 100);\n",
       "    } else if (!window._bokeh_failed_load) {\n",
       "      console.log(\"Bokeh: BokehJS failed to load within specified timeout.\");\n",
       "      window._bokeh_failed_load = true;\n",
       "    } else if (force !== true) {\n",
       "      var cell = $(document.getElementById(\"b526223d-1170-41a5-9c3d-78137ff5e08a\")).parents('.cell').data().cell;\n",
       "      cell.output_area.append_execute_result(NB_LOAD_WARNING)\n",
       "    }\n",
       "\n",
       "  }\n",
       "\n",
       "  if (window._bokeh_is_loading === 0) {\n",
       "    console.log(\"Bokeh: BokehJS loaded, going straight to plotting\");\n",
       "    run_inline_js();\n",
       "  } else {\n",
       "    load_libs(js_urls, function() {\n",
       "      console.log(\"Bokeh: BokehJS plotting callback run at\", now());\n",
       "      run_inline_js();\n",
       "    });\n",
       "  }\n",
       "}(this));"
      ]
     },
     "metadata": {},
     "output_type": "display_data"
    }
   ],
   "source": [
    "from bokeh.models import ColumnDataSource, LabelSet\n",
    "from bokeh.plotting import figure, show, output_file\n",
    "from bokeh.io import output_notebook\n",
    "output_notebook()"
   ]
  },
  {
   "cell_type": "markdown",
   "metadata": {},
   "source": [
    "### Part 0: Download the TED dataset"
   ]
  },
  {
   "cell_type": "code",
   "execution_count": 4,
   "metadata": {
    "collapsed": true
   },
   "outputs": [],
   "source": [
    "#import urllib.request\n",
    "import urllib\n",
    "import zipfile\n",
    "import lxml.etree"
   ]
  },
  {
   "cell_type": "code",
   "execution_count": 4,
   "metadata": {
    "collapsed": true
   },
   "outputs": [],
   "source": [
    "# Download the dataset if it's not already there: this may take a minute as it is 75MB\n",
    "if not os.path.isfile('ted_en-20160408.zip'):\n",
    "    urllib.urlretrieve(\"https://wit3.fbk.eu/get.php?path=XML_releases/xml/ted_en-20160408.zip&filename=ted_en-20160408.zip\", filename=\"ted_en-20160408.zip\")"
   ]
  },
  {
   "cell_type": "code",
   "execution_count": 5,
   "metadata": {
    "collapsed": true
   },
   "outputs": [],
   "source": [
    "# For now, we're only interested in the subtitle text, so let's extract that from the XML:\n",
    "with zipfile.ZipFile('ted_en-20160408.zip', 'r') as z:\n",
    "    doc = lxml.etree.parse(z.open('ted_en-20160408.xml', 'r'))\n",
    "input_text = '\\n'.join(doc.xpath('//content/text()')) #find element named \"content\" by XPath and extract all texts \n",
    "del doc"
   ]
  },
  {
   "cell_type": "markdown",
   "metadata": {},
   "source": [
    "### Part 1: Preprocessing\n",
    "\n",
    "In this part, we attempt to clean up the raw subtitles a bit, so that we get only sentences. The following substring shows examples of what we're trying to get rid of. Since it's hard to define precisely what we want to get rid of, we'll just use some simple heuristics."
   ]
  },
  {
   "cell_type": "code",
   "execution_count": 6,
   "metadata": {},
   "outputs": [
    {
     "data": {
      "text/plain": [
       "u' baby does.\\n(Video) Hyowon Gweon: See this? (Ball squeaks) Did you see that? (Ball squeaks) Cool. See this one? (Ball squeaks) Wow.\\nLaura Schulz: Told you. (Laughs)\\n(Vide'"
      ]
     },
     "execution_count": 6,
     "metadata": {},
     "output_type": "execute_result"
    }
   ],
   "source": [
    "#show uncleared texts\n",
    "i = input_text.find(\"Hyowon Gweon: See this?\")\n",
    "input_text[i-20:i+150]"
   ]
  },
  {
   "cell_type": "markdown",
   "metadata": {},
   "source": [
    "Let's start by <u>removing all parenthesized strings using a regex</u>:"
   ]
  },
  {
   "cell_type": "code",
   "execution_count": 7,
   "metadata": {
    "collapsed": true
   },
   "outputs": [],
   "source": [
    "input_text_noparens = re.sub(r'\\([^)]*\\)', '', input_text) "
   ]
  },
  {
   "cell_type": "markdown",
   "metadata": {},
   "source": [
    "We can verify the same location in the text is now clean as follows. We won't worry about the irregular spaces since we'll later split the text into sentences and tokenize it anyway."
   ]
  },
  {
   "cell_type": "code",
   "execution_count": 8,
   "metadata": {},
   "outputs": [
    {
     "data": {
      "text/plain": [
       "u\"hat the baby does.\\n Hyowon Gweon: See this?  Did you see that?  Cool. See this one?  Wow.\\nLaura Schulz: Told you. \\n HG: See this one?  Hey Clara, this one's for you. You \""
      ]
     },
     "execution_count": 8,
     "metadata": {},
     "output_type": "execute_result"
    }
   ],
   "source": [
    "#show texts after removing parenthesis\n",
    "i = input_text_noparens.find(\"Hyowon Gweon: See this?\")\n",
    "input_text_noparens[i-20:i+150]"
   ]
  },
  {
   "cell_type": "markdown",
   "metadata": {},
   "source": [
    "Now, let's attempt to <u>remove speakers' names that occur at the beginning of a line, by deleting pieces of the form \"`<up to 20 characters>:`\",</u> as shown in this example. Of course, this is an imperfect heuristic. "
   ]
  },
  {
   "cell_type": "code",
   "execution_count": 9,
   "metadata": {},
   "outputs": [
    {
     "data": {
      "text/plain": [
       "[u\"Here are two reasons companies fail: they only do more of the same, or they only do what's new\",\n",
       " u'To me the real, real solution to quality growth is figuring out the balance between two activities: exploration and exploitation',\n",
       " u' Both are necessary, but it can be too much of a good thing',\n",
       " u'Consider Facit',\n",
       " u\" I'm actually old enough to remember them\"]"
      ]
     },
     "execution_count": 9,
     "metadata": {},
     "output_type": "execute_result"
    }
   ],
   "source": [
    "sentences_strings_ted = []\n",
    "for line in input_text_noparens.split('\\n'):\n",
    "    m = re.match(r'^(?:(?P<precolon>[^:]{,20}):)?(?P<postcolon>.*)$', line)\n",
    "    sentences_strings_ted.extend(sent for sent in m.groupdict()['postcolon'].split('.') if sent)\n",
    "\n",
    "# Uncomment if you need to save some RAM: these strings are about 50MB.\n",
    "# del input_text, input_text_noparens\n",
    "\n",
    "# Let's view the first few:\n",
    "sentences_strings_ted[:5]"
   ]
  },
  {
   "cell_type": "markdown",
   "metadata": {},
   "source": [
    "Now that we have sentences, we're ready to tokenize each of them into words. This tokenization is imperfect, of course. For instance, how many tokens is \"can't\", and where/how do we split it? <u>We'll take the simplest naive approach of splitting on spaces.</u> Before splitting, we remove non-alphanumeric characters, such as punctuation. You may want to consider the following question: why do we replace these characters with spaces rather than deleting them? Think of a case where this yields a different answer."
   ]
  },
  {
   "cell_type": "code",
   "execution_count": 10,
   "metadata": {
    "collapsed": true
   },
   "outputs": [],
   "source": [
    "sentences_ted = []\n",
    "for sent_str in sentences_strings_ted:\n",
    "    tokens = re.sub(r\"[^a-z0-9]+\", \" \", sent_str.lower()).split() #[^] resereves a-z and 0-9\n",
    "    sentences_ted.append(tokens)"
   ]
  },
  {
   "cell_type": "markdown",
   "metadata": {},
   "source": [
    "Two sample processed sentences:"
   ]
  },
  {
   "cell_type": "code",
   "execution_count": 11,
   "metadata": {},
   "outputs": [
    {
     "data": {
      "text/plain": [
       "266694"
      ]
     },
     "execution_count": 11,
     "metadata": {},
     "output_type": "execute_result"
    }
   ],
   "source": [
    "len(sentences_ted)"
   ]
  },
  {
   "cell_type": "code",
   "execution_count": 12,
   "metadata": {},
   "outputs": [
    {
     "name": "stdout",
     "output_type": "stream",
     "text": [
      "[u'here', u'are', u'two', u'reasons', u'companies', u'fail', u'they', u'only', u'do', u'more', u'of', u'the', u'same', u'or', u'they', u'only', u'do', u'what', u's', u'new']\n",
      "[u'to', u'me', u'the', u'real', u'real', u'solution', u'to', u'quality', u'growth', u'is', u'figuring', u'out', u'the', u'balance', u'between', u'two', u'activities', u'exploration', u'and', u'exploitation']\n"
     ]
    }
   ],
   "source": [
    "print(sentences_ted[0])\n",
    "print(sentences_ted[1])"
   ]
  },
  {
   "cell_type": "markdown",
   "metadata": {},
   "source": [
    "### Part 2: Word Frequencies"
   ]
  },
  {
   "cell_type": "markdown",
   "metadata": {},
   "source": [
    "If you store the counts of the top 1000 words in a list called `counts_ted_top1000`, the code below will plot the histogram requested in the writeup."
   ]
  },
  {
   "cell_type": "code",
   "execution_count": null,
   "metadata": {
    "collapsed": true
   },
   "outputs": [],
   "source": [
    "from collections import Counter"
   ]
  },
  {
   "cell_type": "code",
   "execution_count": 13,
   "metadata": {
    "collapsed": true
   },
   "outputs": [],
   "source": [
    "c = Counter()\n",
    "for sent in sentences_ted:\n",
    "    for word in sent:\n",
    "        c[word] += 1\n",
    "words_top_ted = [tuple[0] for tuple in c.most_common(1000)] #top 1000 words\n",
    "counts_ted_top1000 = [tuple[1] for tuple in c.most_common(1000)] #top 1000 counts of word\n",
    "#print counts_ted_top1000"
   ]
  },
  {
   "cell_type": "markdown",
   "metadata": {},
   "source": [
    "Plot distribution of top-1000 words"
   ]
  },
  {
   "cell_type": "code",
   "execution_count": 14,
   "metadata": {},
   "outputs": [
    {
     "data": {
      "text/html": [
       "\n",
       "\n",
       "    <div class=\"bk-root\">\n",
       "        <div class=\"bk-plotdiv\" id=\"b22ba601-7176-433f-bf5f-81dc32a92acc\"></div>\n",
       "    </div>\n",
       "<script type=\"text/javascript\">\n",
       "  \n",
       "  (function(global) {\n",
       "    function now() {\n",
       "      return new Date();\n",
       "    }\n",
       "  \n",
       "    var force = false;\n",
       "  \n",
       "    if (typeof (window._bokeh_onload_callbacks) === \"undefined\" || force === true) {\n",
       "      window._bokeh_onload_callbacks = [];\n",
       "      window._bokeh_is_loading = undefined;\n",
       "    }\n",
       "  \n",
       "  \n",
       "    \n",
       "    if (typeof (window._bokeh_timeout) === \"undefined\" || force === true) {\n",
       "      window._bokeh_timeout = Date.now() + 0;\n",
       "      window._bokeh_failed_load = false;\n",
       "    }\n",
       "  \n",
       "    var NB_LOAD_WARNING = {'data': {'text/html':\n",
       "       \"<div style='background-color: #fdd'>\\n\"+\n",
       "       \"<p>\\n\"+\n",
       "       \"BokehJS does not appear to have successfully loaded. If loading BokehJS from CDN, this \\n\"+\n",
       "       \"may be due to a slow or bad network connection. Possible fixes:\\n\"+\n",
       "       \"</p>\\n\"+\n",
       "       \"<ul>\\n\"+\n",
       "       \"<li>re-rerun `output_notebook()` to attempt to load from CDN again, or</li>\\n\"+\n",
       "       \"<li>use INLINE resources instead, as so:</li>\\n\"+\n",
       "       \"</ul>\\n\"+\n",
       "       \"<code>\\n\"+\n",
       "       \"from bokeh.resources import INLINE\\n\"+\n",
       "       \"output_notebook(resources=INLINE)\\n\"+\n",
       "       \"</code>\\n\"+\n",
       "       \"</div>\"}};\n",
       "  \n",
       "    function display_loaded() {\n",
       "      if (window.Bokeh !== undefined) {\n",
       "        var el = document.getElementById(\"b22ba601-7176-433f-bf5f-81dc32a92acc\");\n",
       "        el.textContent = \"BokehJS \" + Bokeh.version + \" successfully loaded.\";\n",
       "      } else if (Date.now() < window._bokeh_timeout) {\n",
       "        setTimeout(display_loaded, 100)\n",
       "      }\n",
       "    }\n",
       "  \n",
       "    function run_callbacks() {\n",
       "      try {\n",
       "        window._bokeh_onload_callbacks.forEach(function(callback) { callback() });\n",
       "      }\n",
       "      finally {\n",
       "        delete window._bokeh_onload_callbacks\n",
       "      }\n",
       "      console.info(\"Bokeh: all callbacks have finished\");\n",
       "    }\n",
       "  \n",
       "    function load_libs(js_urls, callback) {\n",
       "      window._bokeh_onload_callbacks.push(callback);\n",
       "      if (window._bokeh_is_loading > 0) {\n",
       "        console.log(\"Bokeh: BokehJS is being loaded, scheduling callback at\", now());\n",
       "        return null;\n",
       "      }\n",
       "      if (js_urls == null || js_urls.length === 0) {\n",
       "        run_callbacks();\n",
       "        return null;\n",
       "      }\n",
       "      console.log(\"Bokeh: BokehJS not loaded, scheduling load and callback at\", now());\n",
       "      window._bokeh_is_loading = js_urls.length;\n",
       "      for (var i = 0; i < js_urls.length; i++) {\n",
       "        var url = js_urls[i];\n",
       "        var s = document.createElement('script');\n",
       "        s.src = url;\n",
       "        s.async = false;\n",
       "        s.onreadystatechange = s.onload = function() {\n",
       "          window._bokeh_is_loading--;\n",
       "          if (window._bokeh_is_loading === 0) {\n",
       "            console.log(\"Bokeh: all BokehJS libraries loaded\");\n",
       "            run_callbacks()\n",
       "          }\n",
       "        };\n",
       "        s.onerror = function() {\n",
       "          console.warn(\"failed to load library \" + url);\n",
       "        };\n",
       "        console.log(\"Bokeh: injecting script tag for BokehJS library: \", url);\n",
       "        document.getElementsByTagName(\"head\")[0].appendChild(s);\n",
       "      }\n",
       "    };var element = document.getElementById(\"b22ba601-7176-433f-bf5f-81dc32a92acc\");\n",
       "    if (element == null) {\n",
       "      console.log(\"Bokeh: ERROR: autoload.js configured with elementid 'b22ba601-7176-433f-bf5f-81dc32a92acc' but no matching script tag was found. \")\n",
       "      return false;\n",
       "    }\n",
       "  \n",
       "    var js_urls = [];\n",
       "  \n",
       "    var inline_js = [\n",
       "      function(Bokeh) {\n",
       "        (function() {\n",
       "          var fn = function() {\n",
       "            var docs_json = {\"173349cd-8b91-419a-8fb5-7494c06a5640\":{\"roots\":{\"references\":[{\"attributes\":{\"below\":[{\"id\":\"8b68a3cd-6f82-4d61-a5d4-7968cac89842\",\"type\":\"LinearAxis\"}],\"left\":[{\"id\":\"785261f4-db21-4fcf-8396-1249ddeeb4f3\",\"type\":\"LinearAxis\"}],\"renderers\":[{\"id\":\"8b68a3cd-6f82-4d61-a5d4-7968cac89842\",\"type\":\"LinearAxis\"},{\"id\":\"699b1687-6650-4a86-860a-d00abe4fc494\",\"type\":\"Grid\"},{\"id\":\"785261f4-db21-4fcf-8396-1249ddeeb4f3\",\"type\":\"LinearAxis\"},{\"id\":\"c41dbf1d-60e4-4574-806e-d07c3f6b6885\",\"type\":\"Grid\"},{\"id\":\"fe597d17-eb5d-4c2a-85b2-89bcb6772c96\",\"type\":\"GlyphRenderer\"}],\"title\":{\"id\":\"affc1b12-f1f0-4ef5-8705-1d6e34523012\",\"type\":\"Title\"},\"tool_events\":{\"id\":\"1156988c-2159-4843-9c6d-1af661f50a65\",\"type\":\"ToolEvents\"},\"toolbar\":{\"id\":\"fb4c864d-7bc7-493f-8fd6-191c058a03ce\",\"type\":\"Toolbar\"},\"toolbar_location\":\"above\",\"x_range\":{\"id\":\"58b78dba-e36d-448a-ad18-bdea0fa033dd\",\"type\":\"DataRange1d\"},\"x_scale\":{\"id\":\"89d4e6ea-8820-42dc-a102-55cce292b60d\",\"type\":\"LinearScale\"},\"y_range\":{\"id\":\"ebd1a90f-7fe0-4290-85da-f007fda0fa1f\",\"type\":\"DataRange1d\"},\"y_scale\":{\"id\":\"a9249d3a-3ac4-4092-b966-91ba041bd355\",\"type\":\"LinearScale\"}},\"id\":\"34457990-7f99-445e-8bda-5a83a4d857dc\",\"subtype\":\"Figure\",\"type\":\"Plot\"},{\"attributes\":{\"formatter\":{\"id\":\"00253690-40dd-40d4-9d31-f424bb6754e8\",\"type\":\"BasicTickFormatter\"},\"plot\":{\"id\":\"34457990-7f99-445e-8bda-5a83a4d857dc\",\"subtype\":\"Figure\",\"type\":\"Plot\"},\"ticker\":{\"id\":\"58bb26be-7032-485d-93c1-2c3c26bcfca3\",\"type\":\"BasicTicker\"}},\"id\":\"785261f4-db21-4fcf-8396-1249ddeeb4f3\",\"type\":\"LinearAxis\"},{\"attributes\":{\"plot\":{\"id\":\"34457990-7f99-445e-8bda-5a83a4d857dc\",\"subtype\":\"Figure\",\"type\":\"Plot\"}},\"id\":\"2227e05f-8ef1-4ad3-b34d-176195d596a0\",\"type\":\"WheelZoomTool\"},{\"attributes\":{\"data_source\":{\"id\":\"c4fcca5b-cae6-49b6-bb86-29d88c52199c\",\"type\":\"ColumnDataSource\"},\"glyph\":{\"id\":\"39c8c37b-5d40-457d-8c66-ade1be921403\",\"type\":\"Quad\"},\"hover_glyph\":null,\"muted_glyph\":null,\"nonselection_glyph\":{\"id\":\"b951ab44-6168-4627-af83-cec1b86ea8bb\",\"type\":\"Quad\"},\"selection_glyph\":null},\"id\":\"fe597d17-eb5d-4c2a-85b2-89bcb6772c96\",\"type\":\"GlyphRenderer\"},{\"attributes\":{\"plot\":{\"id\":\"34457990-7f99-445e-8bda-5a83a4d857dc\",\"subtype\":\"Figure\",\"type\":\"Plot\"}},\"id\":\"1888ed5b-0ba7-4166-847d-a4cc081b9df4\",\"type\":\"ResetTool\"},{\"attributes\":{\"plot\":{\"id\":\"34457990-7f99-445e-8bda-5a83a4d857dc\",\"subtype\":\"Figure\",\"type\":\"Plot\"},\"ticker\":{\"id\":\"af2b0942-2f4d-4053-a1ea-3bd338aa7f1d\",\"type\":\"BasicTicker\"}},\"id\":\"699b1687-6650-4a86-860a-d00abe4fc494\",\"type\":\"Grid\"},{\"attributes\":{\"bottom\":{\"value\":0},\"fill_alpha\":{\"value\":0.1},\"fill_color\":{\"value\":\"#1f77b4\"},\"left\":{\"field\":\"left\"},\"line_alpha\":{\"value\":0.1},\"line_color\":{\"value\":\"#1f77b4\"},\"right\":{\"field\":\"right\"},\"top\":{\"field\":\"top\"}},\"id\":\"b951ab44-6168-4627-af83-cec1b86ea8bb\",\"type\":\"Quad\"},{\"attributes\":{\"plot\":{\"id\":\"34457990-7f99-445e-8bda-5a83a4d857dc\",\"subtype\":\"Figure\",\"type\":\"Plot\"}},\"id\":\"1d24aa32-2378-48d4-bffc-be08055f037e\",\"type\":\"SaveTool\"},{\"attributes\":{},\"id\":\"a9249d3a-3ac4-4092-b966-91ba041bd355\",\"type\":\"LinearScale\"},{\"attributes\":{\"callback\":null},\"id\":\"58b78dba-e36d-448a-ad18-bdea0fa033dd\",\"type\":\"DataRange1d\"},{\"attributes\":{},\"id\":\"1156988c-2159-4843-9c6d-1af661f50a65\",\"type\":\"ToolEvents\"},{\"attributes\":{\"callback\":null,\"column_names\":[\"top\",\"right\",\"left\"],\"data\":{\"left\":{\"__ndarray__\":\"AAAAAABAeUB7FK5H4VqjQHsUrkfhxrFAuB6F61HguUB7FK5H4fzAQJqZmZmZCcVAuB6F61EWyUDXo3A9CiPNQHsUrkfhl9BACtejcD2e0kCamZmZmaTUQClcj8L1qtZAuB6F61Gx2EBI4XoUrrfaQNejcD0KvtxAZ2ZmZmbE3kB7FK5HYWXgQMP1KFyPaOFACtejcL1r4kBSuB6F627jQJqZmZkZcuRA4XoUrkd15UApXI/CdXjmQHE9Cteje+dAuB6F69F+6EAAAAAAAILpQEjhehQuhepAkML1KFyI60DXo3A9iovsQB+F61G4ju1AZ2ZmZuaR7kCuR+F6FJXvQHsUrkchTPBAH4XrUbjN8EDD9ShcT0/xQGdmZmbm0PFACtejcH1S8kCuR+F6FNTyQFK4HoWrVfNA9ihcj0LX80CamZmZ2Vj0QD4K16Nw2vRA4XoUrgdc9UCF61G4nt31QClcj8I1X/ZAzczMzMzg9kBxPQrXY2L3QBWuR+H64/dAuB6F65Fl+EBcj8L1KOf4QAAAAADAaPlApHA9Clfq+UBI4XoU7mv6QOxRuB6F7fpAkML1KBxv+0AzMzMzs/D7QNejcD1KcvxAexSuR+Hz/EAfhetReHX9QMP1KFwP9/1AZ2ZmZqZ4/kAK16NwPfr+QK5H4XrUe/9AUrgehWv9/0B7FK5HgT8AQc3MzMxMgABBH4XrURjBAEFxPQrX4wEBQcP1KFyvQgFBFa5H4XqDAUFnZmZmRsQBQbgehesRBQJBCtejcN1FAkFcj8L1qIYCQa5H4Xp0xwJBAAAAAEAIA0FSuB6FC0kDQaRwPQrXiQNB9ihcj6LKA0FI4XoUbgsEQZqZmZk5TARB7FG4HgWNBEE+Ctej0M0EQZDC9SicDgVB4XoUrmdPBUEzMzMzM5AFQYXrUbj+0AVB16NwPcoRBkEpXI/ClVIGQXsUrkdhkwZBzczMzCzUBkEfhetR+BQHQXE9CtfDVQdBw/UoXI+WB0EVrkfhWtcHQWdmZmYmGAhBuB6F6/FYCEEK16NwvZkIQVyPwvWI2ghBrkfhelQbCUE=\",\"dtype\":\"float64\",\"shape\":[100]},\"right\":{\"__ndarray__\":\"exSuR+Fao0B7FK5H4caxQLgehetR4LlAexSuR+H8wECamZmZmQnFQLgehetRFslA16NwPQojzUB7FK5H4ZfQQArXo3A9ntJAmpmZmZmk1EApXI/C9arWQLgehetRsdhASOF6FK632kDXo3A9Cr7cQGdmZmZmxN5AexSuR2Fl4EDD9Shcj2jhQArXo3C9a+JAUrgehetu40CamZmZGXLkQOF6FK5HdeVAKVyPwnV45kBxPQrXo3vnQLgehevRfuhAAAAAAACC6UBI4XoULoXqQJDC9ShciOtA16NwPYqL7EAfhetRuI7tQGdmZmbmke5ArkfhehSV70B7FK5HIUzwQB+F61G4zfBAw/UoXE9P8UBnZmZm5tDxQArXo3B9UvJArkfhehTU8kBSuB6Fq1XzQPYoXI9C1/NAmpmZmdlY9EA+CtejcNr0QOF6FK4HXPVAhetRuJ7d9UApXI/CNV/2QM3MzMzM4PZAcT0K12Ni90AVrkfh+uP3QLgeheuRZfhAXI/C9Sjn+EAAAAAAwGj5QKRwPQpX6vlASOF6FO5r+kDsUbgehe36QJDC9Sgcb/tAMzMzM7Pw+0DXo3A9SnL8QHsUrkfh8/xAH4XrUXh1/UDD9ShcD/f9QGdmZmameP5ACtejcD36/kCuR+F61Hv/QFK4HoVr/f9AexSuR4E/AEHNzMzMTIAAQR+F61EYwQBBcT0K1+MBAUHD9Shcr0IBQRWuR+F6gwFBZ2ZmZkbEAUG4HoXrEQUCQQrXo3DdRQJBXI/C9aiGAkGuR+F6dMcCQQAAAABACANBUrgehQtJA0GkcD0K14kDQfYoXI+iygNBSOF6FG4LBEGamZmZOUwEQexRuB4FjQRBPgrXo9DNBEGQwvUonA4FQeF6FK5nTwVBMzMzMzOQBUGF61G4/tAFQdejcD3KEQZBKVyPwpVSBkF7FK5HYZMGQc3MzMws1AZBH4XrUfgUB0FxPQrXw1UHQcP1KFyPlgdBFa5H4VrXB0FnZmZmJhgIQbgehevxWAhBCtejcL2ZCEFcj8L1iNoIQa5H4XpUGwlBAAAAACBcCUE=\",\"dtype\":\"float64\",\"shape\":[100]},\"top\":{\"__ndarray__\":\"50H1zNSBOT/ypb1tgHIBPwsriUb5Uew+zuTFiLI04j78kGUPxTHhPh40R25oQNY+zuTFiLI00j4pPQWW1y7APsTbB2FDRsg+JT0FltcuwD4tPQWW1y6wPi09BZbXLrA+JT0FltcuwD4tPQWW1y6gPiU9BZbXLrA+LT0FltcuoD4AAAAAAAAAADU9BZbXLqA+AAAAAAAAAAAAAAAAAAAAAAAAAAAAAAAAAAAAAAAAAAAAAAAAAAAAADU9BZbXLqA+AAAAAAAAAAAAAAAAAAAAAAAAAAAAAAAANT0FltcuoD4AAAAAAAAAAAAAAAAAAAAANT0FltcuoD4AAAAAAAAAACU9BZbXLqA+AAAAAAAAAAAlPQWW1y6gPkU9BZbXLqA+AAAAAAAAAAAlPQWW1y6gPgAAAAAAAAAAJT0FltcuoD4AAAAAAAAAAAAAAAAAAAAAAAAAAAAAAAAAAAAAAAAAAAAAAAAAAAAAJT0FltcuoD4AAAAAAAAAAAAAAAAAAAAAAAAAAAAAAAAAAAAAAAAAACU9BZbXLqA+AAAAAAAAAAAAAAAAAAAAAAAAAAAAAAAAAAAAAAAAAAAlPQWW1y6gPgAAAAAAAAAAAAAAAAAAAAAAAAAAAAAAAAAAAAAAAAAART0FltcuoD4AAAAAAAAAAAAAAAAAAAAAAAAAAAAAAAAAAAAAAAAAAAAAAAAAAAAAAAAAAAAAAAAAAAAAAAAAAAAAAAAAAAAAAAAAAAAAAAAAAAAAAAAAACU9BZbXLqA+AAAAAAAAAAAAAAAAAAAAAAAAAAAAAAAAAAAAAAAAAAAAAAAAAAAAAAAAAAAAAAAAAAAAAAAAAAAAAAAAAAAAAAAAAAAAAAAAAAAAAAAAAAAAAAAAAAAAAAAAAAAAAAAAAAAAAAAAAAAAAAAAAAAAAAAAAAAAAAAAAAAAAAAAAAAAAAAAAAAAAAAAAAAAAAAAAAAAAAAAAAAAAAAAAAAAAAAAAAAAAAAAAAAAAAAAAAAAAAAAAAAAAAAAAAAAAAAAAAAAAAAAAAAAAAAAAAAAAAAAAAAAAAAAJT0FltcuoD4=\",\"dtype\":\"float64\",\"shape\":[100]}}},\"id\":\"c4fcca5b-cae6-49b6-bb86-29d88c52199c\",\"type\":\"ColumnDataSource\"},{\"attributes\":{\"bottom\":{\"value\":0},\"fill_color\":{\"value\":\"#1f77b4\"},\"left\":{\"field\":\"left\"},\"line_color\":{\"value\":\"#555555\"},\"right\":{\"field\":\"right\"},\"top\":{\"field\":\"top\"}},\"id\":\"39c8c37b-5d40-457d-8c66-ade1be921403\",\"type\":\"Quad\"},{\"attributes\":{\"plot\":null,\"text\":\"Top-1000 words distribution\"},\"id\":\"affc1b12-f1f0-4ef5-8705-1d6e34523012\",\"type\":\"Title\"},{\"attributes\":{},\"id\":\"3322dafe-1dca-461f-ba62-d6a397a30009\",\"type\":\"BasicTickFormatter\"},{\"attributes\":{\"formatter\":{\"id\":\"3322dafe-1dca-461f-ba62-d6a397a30009\",\"type\":\"BasicTickFormatter\"},\"plot\":{\"id\":\"34457990-7f99-445e-8bda-5a83a4d857dc\",\"subtype\":\"Figure\",\"type\":\"Plot\"},\"ticker\":{\"id\":\"af2b0942-2f4d-4053-a1ea-3bd338aa7f1d\",\"type\":\"BasicTicker\"}},\"id\":\"8b68a3cd-6f82-4d61-a5d4-7968cac89842\",\"type\":\"LinearAxis\"},{\"attributes\":{\"plot\":{\"id\":\"34457990-7f99-445e-8bda-5a83a4d857dc\",\"subtype\":\"Figure\",\"type\":\"Plot\"}},\"id\":\"c0b979c7-732c-4696-832c-c28567741726\",\"type\":\"PanTool\"},{\"attributes\":{},\"id\":\"00253690-40dd-40d4-9d31-f424bb6754e8\",\"type\":\"BasicTickFormatter\"},{\"attributes\":{\"active_drag\":\"auto\",\"active_inspect\":\"auto\",\"active_scroll\":\"auto\",\"active_tap\":\"auto\",\"tools\":[{\"id\":\"c0b979c7-732c-4696-832c-c28567741726\",\"type\":\"PanTool\"},{\"id\":\"2227e05f-8ef1-4ad3-b34d-176195d596a0\",\"type\":\"WheelZoomTool\"},{\"id\":\"1888ed5b-0ba7-4166-847d-a4cc081b9df4\",\"type\":\"ResetTool\"},{\"id\":\"1d24aa32-2378-48d4-bffc-be08055f037e\",\"type\":\"SaveTool\"}]},\"id\":\"fb4c864d-7bc7-493f-8fd6-191c058a03ce\",\"type\":\"Toolbar\"},{\"attributes\":{},\"id\":\"89d4e6ea-8820-42dc-a102-55cce292b60d\",\"type\":\"LinearScale\"},{\"attributes\":{},\"id\":\"af2b0942-2f4d-4053-a1ea-3bd338aa7f1d\",\"type\":\"BasicTicker\"},{\"attributes\":{\"dimension\":1,\"plot\":{\"id\":\"34457990-7f99-445e-8bda-5a83a4d857dc\",\"subtype\":\"Figure\",\"type\":\"Plot\"},\"ticker\":{\"id\":\"58bb26be-7032-485d-93c1-2c3c26bcfca3\",\"type\":\"BasicTicker\"}},\"id\":\"c41dbf1d-60e4-4574-806e-d07c3f6b6885\",\"type\":\"Grid\"},{\"attributes\":{\"callback\":null},\"id\":\"ebd1a90f-7fe0-4290-85da-f007fda0fa1f\",\"type\":\"DataRange1d\"},{\"attributes\":{},\"id\":\"58bb26be-7032-485d-93c1-2c3c26bcfca3\",\"type\":\"BasicTicker\"}],\"root_ids\":[\"34457990-7f99-445e-8bda-5a83a4d857dc\"]},\"title\":\"Bokeh Application\",\"version\":\"0.12.6\"}};\n",
       "            var render_items = [{\"docid\":\"173349cd-8b91-419a-8fb5-7494c06a5640\",\"elementid\":\"b22ba601-7176-433f-bf5f-81dc32a92acc\",\"modelid\":\"34457990-7f99-445e-8bda-5a83a4d857dc\"}];\n",
       "            \n",
       "            Bokeh.embed.embed_items(docs_json, render_items);\n",
       "          };\n",
       "          if (document.readyState != \"loading\") fn();\n",
       "          else document.addEventListener(\"DOMContentLoaded\", fn);\n",
       "        })();\n",
       "      },\n",
       "      function(Bokeh) {\n",
       "      }\n",
       "    ];\n",
       "  \n",
       "    function run_inline_js() {\n",
       "      \n",
       "      if ((window.Bokeh !== undefined) || (force === true)) {\n",
       "        for (var i = 0; i < inline_js.length; i++) {\n",
       "          inline_js[i](window.Bokeh);\n",
       "        }if (force === true) {\n",
       "          display_loaded();\n",
       "        }} else if (Date.now() < window._bokeh_timeout) {\n",
       "        setTimeout(run_inline_js, 100);\n",
       "      } else if (!window._bokeh_failed_load) {\n",
       "        console.log(\"Bokeh: BokehJS failed to load within specified timeout.\");\n",
       "        window._bokeh_failed_load = true;\n",
       "      } else if (force !== true) {\n",
       "        var cell = $(document.getElementById(\"b22ba601-7176-433f-bf5f-81dc32a92acc\")).parents('.cell').data().cell;\n",
       "        cell.output_area.append_execute_result(NB_LOAD_WARNING)\n",
       "      }\n",
       "  \n",
       "    }\n",
       "  \n",
       "    if (window._bokeh_is_loading === 0) {\n",
       "      console.log(\"Bokeh: BokehJS loaded, going straight to plotting\");\n",
       "      run_inline_js();\n",
       "    } else {\n",
       "      load_libs(js_urls, function() {\n",
       "        console.log(\"Bokeh: BokehJS plotting callback run at\", now());\n",
       "        run_inline_js();\n",
       "      });\n",
       "    }\n",
       "  }(this));\n",
       "</script>"
      ]
     },
     "metadata": {},
     "output_type": "display_data"
    }
   ],
   "source": [
    "hist, edges = np.histogram(counts_ted_top1000, density=True, bins=100, normed=True)\n",
    "\n",
    "p = figure(tools=\"pan,wheel_zoom,reset,save\",\n",
    "           toolbar_location=\"above\",\n",
    "           title=\"Top-1000 words distribution\")\n",
    "p.quad(top=hist, bottom=0, left=edges[:-1], right=edges[1:], line_color=\"#555555\")\n",
    "show(p)"
   ]
  },
  {
   "cell_type": "markdown",
   "metadata": {},
   "source": [
    "### Part 3: Train Word2Vec"
   ]
  },
  {
   "cell_type": "code",
   "execution_count": 11,
   "metadata": {},
   "outputs": [
    {
     "name": "stderr",
     "output_type": "stream",
     "text": [
      "D:\\ProgramData\\Anaconda2\\lib\\site-packages\\gensim\\utils.py:865: UserWarning: detected Windows; aliasing chunkize to chunkize_serial\n",
      "  warnings.warn(\"detected Windows; aliasing chunkize to chunkize_serial\")\n"
     ]
    }
   ],
   "source": [
    "from gensim.models import Word2Vec"
   ]
  },
  {
   "cell_type": "code",
   "execution_count": 16,
   "metadata": {
    "collapsed": true
   },
   "outputs": [],
   "source": [
    "if not os.path.isfile('./tmp/myWord2Vec_ted'):\n",
    "    model_ted = Word2Vec(sentences_ted, size=100, min_count=10)\n",
    "    model_ted.save('./tmp/myWord2Vec_ted') #save for future load\n",
    "else:\n",
    "    model_ted = Word2Vec.load('./tmp/myWord2Vec_ted')"
   ]
  },
  {
   "cell_type": "markdown",
   "metadata": {},
   "source": [
    "### Part 4: Ted Learnt Representations"
   ]
  },
  {
   "cell_type": "markdown",
   "metadata": {},
   "source": [
    "Finding similar words: (see gensim docs for more functionality of `most_similar`)"
   ]
  },
  {
   "cell_type": "code",
   "execution_count": 17,
   "metadata": {},
   "outputs": [
    {
     "data": {
      "text/plain": [
       "[(u'woman', 0.8315613269805908),\n",
       " (u'guy', 0.8146558403968811),\n",
       " (u'lady', 0.7761974930763245),\n",
       " (u'boy', 0.7529250383377075),\n",
       " (u'girl', 0.7514427900314331),\n",
       " (u'soldier', 0.7263503074645996),\n",
       " (u'gentleman', 0.7179666757583618),\n",
       " (u'kid', 0.689196765422821),\n",
       " (u'rabbi', 0.6730810403823853),\n",
       " (u'philosopher', 0.6728865504264832)]"
      ]
     },
     "execution_count": 17,
     "metadata": {},
     "output_type": "execute_result"
    }
   ],
   "source": [
    "model_ted.most_similar(\"man\")"
   ]
  },
  {
   "cell_type": "code",
   "execution_count": 18,
   "metadata": {},
   "outputs": [
    {
     "data": {
      "text/plain": [
       "[(u'machine', 0.7396014928817749),\n",
       " (u'software', 0.7283523082733154),\n",
       " (u'robot', 0.7240867614746094),\n",
       " (u'device', 0.6887626647949219),\n",
       " (u'3d', 0.6630188822746277),\n",
       " (u'program', 0.6493382453918457),\n",
       " (u'video', 0.6408596038818359),\n",
       " (u'camera', 0.6207435727119446),\n",
       " (u'printer', 0.616905152797699),\n",
       " (u'simulation', 0.6167727708816528)]"
      ]
     },
     "execution_count": 18,
     "metadata": {},
     "output_type": "execute_result"
    }
   ],
   "source": [
    "model_ted.most_similar(\"computer\")"
   ]
  },
  {
   "cell_type": "code",
   "execution_count": 19,
   "metadata": {},
   "outputs": [
    {
     "name": "stdout",
     "output_type": "stream",
     "text": [
      "[(u'president', 0.9202700257301331), (u'french', 0.905616819858551), (u'poet', 0.9025776982307434), (u'mary', 0.9009045362472534), (u'obama', 0.8999260663986206), (u'luther', 0.8985649347305298), (u'queen', 0.8975723385810852), (u'james', 0.8958981037139893), (u'william', 0.89044588804245), (u'named', 0.8855022192001343)]\n",
      "document\n"
     ]
    }
   ],
   "source": [
    "print model_ted.most_similar_cosmul(positive=['woman', 'king'], negative=['man']) #cosine similarity\n",
    "\n",
    "print model_ted.wv.doesnt_match(\"cat dog pig document\".split()) #find the one that most likely dismatch"
   ]
  },
  {
   "cell_type": "markdown",
   "metadata": {},
   "source": [
    "**Bonus: manually retrieve two words and use numpy to compute their cosine distance.**"
   ]
  },
  {
   "cell_type": "code",
   "execution_count": 43,
   "metadata": {},
   "outputs": [
    {
     "name": "stdout",
     "output_type": "stream",
     "text": [
      "0.831561443024\n",
      "0.831561\n"
     ]
    }
   ],
   "source": [
    "\n",
    "print model_ted.wv.similarity('woman','man') #similarity using gensim\n",
    "\n",
    "word1 = model_ted.wv['woman'] #output the vector of 'woman' and 'man'\n",
    "word2 = model_ted.wv['man']\n",
    "\n",
    "#'np.linalg.norm' usage: http://blog.csdn.net/lanchunhui/article/details/51004387\n",
    "cosine = np.dot(word1, word2) / (np.linalg.norm(word1) * np.linalg.norm(word2)) \n",
    "print cosine \n"
   ]
  },
  {
   "cell_type": "markdown",
   "metadata": {},
   "source": [
    "#### t-SNE visualization\n",
    "To use the t-SNE code below, first put a list of the top 1000 words (as strings) into a variable `words_top_ted`. The following code gets the corresponding vectors from the model, assuming it's called `model_ted`:"
   ]
  },
  {
   "cell_type": "code",
   "execution_count": null,
   "metadata": {
    "collapsed": true
   },
   "outputs": [],
   "source": [
    "from sklearn.manifold import TSNE"
   ]
  },
  {
   "cell_type": "code",
   "execution_count": 21,
   "metadata": {
    "collapsed": true
   },
   "outputs": [],
   "source": [
    "# This assumes words_top_ted is a list of strings, the top 1000 words\n",
    "words_top_vec_ted = model_ted[words_top_ted]\n",
    "#print words_top_vec_ted[0] #check vector for 'the'"
   ]
  },
  {
   "cell_type": "code",
   "execution_count": 22,
   "metadata": {
    "collapsed": true
   },
   "outputs": [],
   "source": [
    "tsne = TSNE(n_components=2, random_state=0)\n",
    "words_top_ted_tsne = tsne.fit_transform(words_top_vec_ted)"
   ]
  },
  {
   "cell_type": "code",
   "execution_count": 23,
   "metadata": {
    "scrolled": true
   },
   "outputs": [
    {
     "data": {
      "text/html": [
       "\n",
       "\n",
       "    <div class=\"bk-root\">\n",
       "        <div class=\"bk-plotdiv\" id=\"8bc4f648-58c5-4fc6-b92b-93a7ec98963d\"></div>\n",
       "    </div>\n",
       "<script type=\"text/javascript\">\n",
       "  \n",
       "  (function(global) {\n",
       "    function now() {\n",
       "      return new Date();\n",
       "    }\n",
       "  \n",
       "    var force = false;\n",
       "  \n",
       "    if (typeof (window._bokeh_onload_callbacks) === \"undefined\" || force === true) {\n",
       "      window._bokeh_onload_callbacks = [];\n",
       "      window._bokeh_is_loading = undefined;\n",
       "    }\n",
       "  \n",
       "  \n",
       "    \n",
       "    if (typeof (window._bokeh_timeout) === \"undefined\" || force === true) {\n",
       "      window._bokeh_timeout = Date.now() + 0;\n",
       "      window._bokeh_failed_load = false;\n",
       "    }\n",
       "  \n",
       "    var NB_LOAD_WARNING = {'data': {'text/html':\n",
       "       \"<div style='background-color: #fdd'>\\n\"+\n",
       "       \"<p>\\n\"+\n",
       "       \"BokehJS does not appear to have successfully loaded. If loading BokehJS from CDN, this \\n\"+\n",
       "       \"may be due to a slow or bad network connection. Possible fixes:\\n\"+\n",
       "       \"</p>\\n\"+\n",
       "       \"<ul>\\n\"+\n",
       "       \"<li>re-rerun `output_notebook()` to attempt to load from CDN again, or</li>\\n\"+\n",
       "       \"<li>use INLINE resources instead, as so:</li>\\n\"+\n",
       "       \"</ul>\\n\"+\n",
       "       \"<code>\\n\"+\n",
       "       \"from bokeh.resources import INLINE\\n\"+\n",
       "       \"output_notebook(resources=INLINE)\\n\"+\n",
       "       \"</code>\\n\"+\n",
       "       \"</div>\"}};\n",
       "  \n",
       "    function display_loaded() {\n",
       "      if (window.Bokeh !== undefined) {\n",
       "        var el = document.getElementById(\"8bc4f648-58c5-4fc6-b92b-93a7ec98963d\");\n",
       "        el.textContent = \"BokehJS \" + Bokeh.version + \" successfully loaded.\";\n",
       "      } else if (Date.now() < window._bokeh_timeout) {\n",
       "        setTimeout(display_loaded, 100)\n",
       "      }\n",
       "    }\n",
       "  \n",
       "    function run_callbacks() {\n",
       "      try {\n",
       "        window._bokeh_onload_callbacks.forEach(function(callback) { callback() });\n",
       "      }\n",
       "      finally {\n",
       "        delete window._bokeh_onload_callbacks\n",
       "      }\n",
       "      console.info(\"Bokeh: all callbacks have finished\");\n",
       "    }\n",
       "  \n",
       "    function load_libs(js_urls, callback) {\n",
       "      window._bokeh_onload_callbacks.push(callback);\n",
       "      if (window._bokeh_is_loading > 0) {\n",
       "        console.log(\"Bokeh: BokehJS is being loaded, scheduling callback at\", now());\n",
       "        return null;\n",
       "      }\n",
       "      if (js_urls == null || js_urls.length === 0) {\n",
       "        run_callbacks();\n",
       "        return null;\n",
       "      }\n",
       "      console.log(\"Bokeh: BokehJS not loaded, scheduling load and callback at\", now());\n",
       "      window._bokeh_is_loading = js_urls.length;\n",
       "      for (var i = 0; i < js_urls.length; i++) {\n",
       "        var url = js_urls[i];\n",
       "        var s = document.createElement('script');\n",
       "        s.src = url;\n",
       "        s.async = false;\n",
       "        s.onreadystatechange = s.onload = function() {\n",
       "          window._bokeh_is_loading--;\n",
       "          if (window._bokeh_is_loading === 0) {\n",
       "            console.log(\"Bokeh: all BokehJS libraries loaded\");\n",
       "            run_callbacks()\n",
       "          }\n",
       "        };\n",
       "        s.onerror = function() {\n",
       "          console.warn(\"failed to load library \" + url);\n",
       "        };\n",
       "        console.log(\"Bokeh: injecting script tag for BokehJS library: \", url);\n",
       "        document.getElementsByTagName(\"head\")[0].appendChild(s);\n",
       "      }\n",
       "    };var element = document.getElementById(\"8bc4f648-58c5-4fc6-b92b-93a7ec98963d\");\n",
       "    if (element == null) {\n",
       "      console.log(\"Bokeh: ERROR: autoload.js configured with elementid '8bc4f648-58c5-4fc6-b92b-93a7ec98963d' but no matching script tag was found. \")\n",
       "      return false;\n",
       "    }\n",
       "  \n",
       "    var js_urls = [];\n",
       "  \n",
       "    var inline_js = [\n",
       "      function(Bokeh) {\n",
       "        (function() {\n",
       "          var fn = function() {\n",
       "            var docs_json = {\"0bd872b4-34f7-4859-9ef3-95bedd42411f\":{\"roots\":{\"references\":[{\"attributes\":{\"fill_color\":{\"value\":\"#1f77b4\"},\"line_color\":{\"value\":\"#1f77b4\"},\"size\":{\"units\":\"screen\",\"value\":8},\"x\":{\"field\":\"x1\"},\"y\":{\"field\":\"x2\"}},\"id\":\"5819c372-8b88-4792-bebe-65052eeaecbd\",\"type\":\"Circle\"},{\"attributes\":{},\"id\":\"a1f6bbb6-25b2-4f35-af95-5ddbad4e4254\",\"type\":\"LinearScale\"},{\"attributes\":{\"below\":[{\"id\":\"3c11272a-d3cc-4047-b078-bd2bd3b3f359\",\"type\":\"LinearAxis\"}],\"left\":[{\"id\":\"46ab4fc4-a7b8-4710-b5ef-ea87c563293e\",\"type\":\"LinearAxis\"}],\"renderers\":[{\"id\":\"3c11272a-d3cc-4047-b078-bd2bd3b3f359\",\"type\":\"LinearAxis\"},{\"id\":\"f6cc62be-1d90-451d-abd4-246d11b69a42\",\"type\":\"Grid\"},{\"id\":\"46ab4fc4-a7b8-4710-b5ef-ea87c563293e\",\"type\":\"LinearAxis\"},{\"id\":\"0864ca13-4841-4e5d-985b-8fe8ac0aeae6\",\"type\":\"Grid\"},{\"id\":\"b6d91e44-affa-4e41-aa5b-be737b21a92c\",\"type\":\"GlyphRenderer\"},{\"id\":\"53263697-34de-41ef-8abe-5cc02c43048d\",\"type\":\"LabelSet\"}],\"title\":{\"id\":\"498c71ef-30ce-4cb2-b3d7-9c567ca0a132\",\"type\":\"Title\"},\"tool_events\":{\"id\":\"5d93d248-ce00-4ddf-b342-718593e0d4f0\",\"type\":\"ToolEvents\"},\"toolbar\":{\"id\":\"a84feee9-08cd-4ab6-b690-c65bb33ca3fd\",\"type\":\"Toolbar\"},\"toolbar_location\":\"above\",\"x_range\":{\"id\":\"c41d5a16-c74d-422b-8b40-54d611321f75\",\"type\":\"DataRange1d\"},\"x_scale\":{\"id\":\"d6f52a1f-d383-43c8-b86c-2ae180620adc\",\"type\":\"LinearScale\"},\"y_range\":{\"id\":\"85ff1d36-e200-446d-acf6-5f73f72f02c2\",\"type\":\"DataRange1d\"},\"y_scale\":{\"id\":\"a1f6bbb6-25b2-4f35-af95-5ddbad4e4254\",\"type\":\"LinearScale\"}},\"id\":\"a8930784-e823-459a-a454-16536955a453\",\"subtype\":\"Figure\",\"type\":\"Plot\"},{\"attributes\":{\"callback\":null,\"column_names\":[\"x2\",\"x1\",\"names\"],\"data\":{\"names\":[\"the\",\"and\",\"to\",\"of\",\"a\",\"that\",\"i\",\"in\",\"it\",\"you\",\"we\",\"is\",\"s\",\"this\",\"so\",\"they\",\"was\",\"for\",\"are\",\"have\",\"but\",\"what\",\"on\",\"with\",\"can\",\"t\",\"about\",\"there\",\"be\",\"as\",\"at\",\"all\",\"not\",\"do\",\"my\",\"one\",\"re\",\"people\",\"like\",\"if\",\"from\",\"now\",\"our\",\"he\",\"an\",\"just\",\"these\",\"or\",\"when\",\"because\",\"very\",\"me\",\"out\",\"by\",\"them\",\"how\",\"know\",\"up\",\"going\",\"had\",\"more\",\"think\",\"who\",\"were\",\"see\",\"your\",\"their\",\"which\",\"would\",\"here\",\"really\",\"get\",\"ve\",\"then\",\"m\",\"world\",\"us\",\"time\",\"some\",\"has\",\"don\",\"actually\",\"into\",\"way\",\"where\",\"will\",\"years\",\"things\",\"other\",\"no\",\"could\",\"go\",\"well\",\"want\",\"been\",\"make\",\"right\",\"she\",\"said\",\"something\",\"those\",\"first\",\"two\",\"than\",\"much\",\"also\",\"look\",\"new\",\"thing\",\"little\",\"got\",\"back\",\"over\",\"most\",\"say\",\"even\",\"his\",\"life\",\"only\",\"work\",\"many\",\"take\",\"need\",\"did\",\"lot\",\"kind\",\"why\",\"good\",\"around\",\"every\",\"different\",\"down\",\"ll\",\"let\",\"her\",\"through\",\"same\",\"being\",\"come\",\"d\",\"day\",\"year\",\"three\",\"use\",\"doing\",\"put\",\"called\",\"any\",\"today\",\"percent\",\"made\",\"after\",\"thank\",\"tell\",\"great\",\"human\",\"find\",\"didn\",\"fact\",\"talk\",\"change\",\"started\",\"another\",\"idea\",\"big\",\"last\",\"own\",\"before\",\"its\",\"never\",\"should\",\"better\",\"give\",\"thought\",\"went\",\"might\",\"important\",\"000\",\"again\",\"together\",\"able\",\"still\",\"problem\",\"off\",\"next\",\"part\",\"course\",\"system\",\"him\",\"does\",\"each\",\"start\",\"show\",\"long\",\"ago\",\"story\",\"came\",\"brain\",\"few\",\"bit\",\"between\",\"used\",\"place\",\"technology\",\"women\",\"too\",\"old\",\"mean\",\"data\",\"water\",\"looking\",\"question\",\"maybe\",\"found\",\"love\",\"doesn\",\"end\",\"example\",\"10\",\"done\",\"point\",\"four\",\"real\",\"wanted\",\"ever\",\"school\",\"understand\",\"sort\",\"live\",\"call\",\"whole\",\"always\",\"children\",\"trying\",\"may\",\"person\",\"away\",\"believe\",\"feel\",\"try\",\"million\",\"working\",\"help\",\"everything\",\"five\",\"country\",\"thinking\",\"second\",\"using\",\"information\",\"money\",\"means\",\"took\",\"power\",\"times\",\"high\",\"space\",\"number\",\"kids\",\"home\",\"become\",\"create\",\"small\",\"design\",\"making\",\"best\",\"left\",\"getting\",\"future\",\"enough\",\"man\",\"quite\",\"city\",\"without\",\"sense\",\"happened\",\"comes\",\"social\",\"probably\",\"light\",\"less\",\"talking\",\"energy\",\"am\",\"building\",\"science\",\"food\",\"body\",\"told\",\"interesting\",\"ask\",\"half\",\"pretty\",\"play\",\"hard\",\"anything\",\"lives\",\"countries\",\"coming\",\"such\",\"family\",\"stuff\",\"dollars\",\"moment\",\"earth\",\"20\",\"imagine\",\"across\",\"side\",\"saw\",\"while\",\"happen\",\"okay\",\"once\",\"build\",\"having\",\"men\",\"later\",\"experience\",\"makes\",\"asked\",\"living\",\"seen\",\"says\",\"room\",\"hand\",\"simple\",\"health\",\"ways\",\"else\",\"case\",\"yet\",\"almost\",\"young\",\"days\",\"nothing\",\"bad\",\"care\",\"happens\",\"goes\",\"move\",\"states\",\"reason\",\"computer\",\"open\",\"learn\",\"africa\",\"process\",\"inside\",\"someone\",\"six\",\"far\",\"project\",\"mind\",\"remember\",\"single\",\"picture\",\"both\",\"whether\",\"problems\",\"saying\",\"community\",\"basically\",\"already\",\"within\",\"looked\",\"myself\",\"billion\",\"possible\",\"often\",\"business\",\"planet\",\"global\",\"top\",\"everybody\",\"sure\",\"public\",\"set\",\"wrong\",\"car\",\"book\",\"keep\",\"yes\",\"answer\",\"oh\",\"sometimes\",\"hope\",\"true\",\"history\",\"war\",\"guy\",\"child\",\"instead\",\"months\",\"ideas\",\"looks\",\"matter\",\"government\",\"amazing\",\"united\",\"since\",\"bring\",\"age\",\"cells\",\"job\",\"heard\",\"until\",\"face\",\"wasn\",\"100\",\"read\",\"control\",\"isn\",\"research\",\"30\",\"words\",\"u\",\"group\",\"under\",\"self\",\"somebody\",\"built\",\"state\",\"woman\",\"turn\",\"beautiful\",\"friends\",\"line\",\"knew\",\"couple\",\"order\",\"form\",\"yeah\",\"internet\",\"middle\",\"music\",\"piece\",\"nature\",\"head\",\"though\",\"stop\",\"everyone\",\"50\",\"places\",\"video\",\"learned\",\"language\",\"run\",\"night\",\"decided\",\"study\",\"word\",\"cancer\",\"works\",\"taking\",\"became\",\"exactly\",\"species\",\"completely\",\"society\",\"education\",\"against\",\"stories\",\"large\",\"share\",\"level\",\"heart\",\"america\",\"model\",\"questions\",\"gets\",\"mother\",\"god\",\"company\",\"turns\",\"ourselves\",\"happening\",\"hear\",\"art\",\"themselves\",\"must\",\"itself\",\"rather\",\"kinds\",\"students\",\"name\",\"hours\",\"disease\",\"front\",\"house\",\"huge\",\"couldn\",\"created\",\"universe\",\"ok\",\"animals\",\"american\",\"environment\",\"worked\",\"minutes\",\"ones\",\"black\",\"perhaps\",\"1\",\"past\",\"third\",\"along\",\"finally\",\"others\",\"sound\",\"early\",\"game\",\"thousands\",\"century\",\"based\",\"least\",\"per\",\"ted\",\"lots\",\"figure\",\"free\",\"guys\",\"particular\",\"happy\",\"news\",\"learning\",\"entire\",\"won\",\"gave\",\"machine\",\"india\",\"during\",\"systems\",\"air\",\"difference\",\"outside\",\"natural\",\"taken\",\"seven\",\"given\",\"changed\",\"leave\",\"cell\",\"15\",\"close\",\"behind\",\"cities\",\"full\",\"scale\",\"china\",\"difficult\",\"takes\",\"companies\",\"yourself\",\"area\",\"reality\",\"seeing\",\"easy\",\"turned\",\"cost\",\"eyes\",\"team\",\"moving\",\"population\",\"culture\",\"york\",\"hands\",\"whatever\",\"began\",\"needs\",\"terms\",\"image\",\"needed\",\"simply\",\"beginning\",\"father\",\"local\",\"realized\",\"media\",\"parents\",\"death\",\"walk\",\"view\",\"white\",\"market\",\"parts\",\"ocean\",\"economic\",\"eight\",\"powerful\",\"week\",\"known\",\"size\",\"felt\",\"humans\",\"certain\",\"spend\",\"longer\",\"phone\",\"wonderful\",\"cannot\",\"grow\",\"common\",\"center\",\"tried\",\"fish\",\"land\",\"oil\",\"deal\",\"interested\",\"political\",\"red\",\"gone\",\"amount\",\"weeks\",\"spent\",\"opportunity\",\"paper\",\"lost\",\"national\",\"quickly\",\"blue\",\"step\",\"poor\",\"green\",\"buy\",\"wouldn\",\"growth\",\"either\",\"patients\",\"sitting\",\"ability\",\"changes\",\"write\",\"challenge\",\"south\",\"low\",\"friend\",\"growing\",\"field\",\"2\",\"shows\",\"born\",\"rest\",\"climate\",\"40\",\"test\",\"street\",\"surface\",\"incredible\",\"average\",\"morning\",\"physical\",\"value\",\"program\",\"scientists\",\"pay\",\"feeling\",\"met\",\"hundreds\",\"girl\",\"behavior\",\"economy\",\"dna\",\"complex\",\"access\",\"risk\",\"animal\",\"structure\",\"feet\",\"attention\",\"areas\",\"anyone\",\"deep\",\"watch\",\"short\",\"absolutely\",\"brought\",\"speak\",\"bottom\",\"die\",\"numbers\",\"audience\",\"stage\",\"realize\",\"images\",\"law\",\"wrote\",\"understanding\",\"books\",\"knowledge\",\"literally\",\"movement\",\"ground\",\"giving\",\"eat\",\"force\",\"seems\",\"alone\",\"telling\",\"starting\",\"hold\",\"nice\",\"sea\",\"forward\",\"developed\",\"individual\",\"kid\",\"millions\",\"support\",\"miles\",\"tools\",\"running\",\"online\",\"result\",\"act\",\"medical\",\"technologies\",\"north\",\"development\",\"lab\",\"blood\",\"fear\",\"nobody\",\"map\",\"personal\",\"voice\",\"issue\",\"key\",\"material\",\"recently\",\"12\",\"theory\",\"cut\",\"cars\",\"sun\",\"fast\",\"changing\",\"playing\",\"clear\",\"especially\",\"girls\",\"soon\",\"patient\",\"choice\",\"fly\",\"creating\",\"discovered\",\"talked\",\"relationship\",\"europe\",\"normal\",\"gives\",\"generation\",\"dark\",\"type\",\"showed\",\"asking\",\"industry\",\"seem\",\"chance\",\"rate\",\"hour\",\"designed\",\"fun\",\"color\",\"issues\",\"university\",\"several\",\"computers\",\"innovation\",\"class\",\"tiny\",\"english\",\"save\",\"allow\",\"focus\",\"developing\",\"digital\",\"solve\",\"film\",\"network\",\"special\",\"wall\",\"situation\",\"baby\",\"solution\",\"box\",\"reasons\",\"knows\",\"meet\",\"stand\",\"dead\",\"begin\",\"impact\",\"haven\",\"anybody\",\"term\",\"pictures\",\"beyond\",\"please\",\"produce\",\"ice\",\"shape\",\"non\",\"resources\",\"robot\",\"cool\",\"stay\",\"likely\",\"groups\",\"rights\",\"available\",\"truth\",\"major\",\"obviously\",\"evidence\",\"experiment\",\"cause\",\"writing\",\"drug\",\"modern\",\"incredibly\",\"becomes\",\"bigger\",\"guess\",\"aren\",\"nine\",\"product\",\"drugs\",\"lived\",\"involved\",\"perfect\",\"month\",\"google\",\"similar\",\"putting\",\"effect\",\"pick\",\"eye\",\"message\",\"web\",\"quality\",\"violence\",\"security\",\"evolution\",\"office\",\"basic\",\"indeed\",\"general\",\"solar\",\"towards\",\"drive\",\"present\",\"worth\",\"listen\",\"send\",\"revolution\",\"hundred\",\"explain\",\"died\",\"certainly\",\"ready\",\"teach\",\"journey\",\"25\",\"walking\",\"hit\",\"led\",\"international\",\"approach\",\"200\",\"games\",\"scientific\",\"60\",\"crazy\",\"potential\",\"chinese\",\"communities\",\"device\",\"camera\",\"source\",\"carbon\",\"sex\",\"rules\",\"sounds\",\"boy\",\"reach\",\"starts\",\"west\",\"examples\",\"3\",\"success\",\"software\",\"measure\",\"particularly\",\"totally\",\"suddenly\",\"action\",\"higher\",\"college\",\"code\",\"eventually\",\"democracy\",\"minute\",\"among\",\"sit\",\"largest\",\"showing\",\"hospital\",\"period\",\"notice\",\"mass\",\"develop\",\"dream\",\"onto\",\"add\",\"plants\",\"break\",\"memory\",\"zero\",\"everywhere\",\"11\",\"favorite\",\"speed\",\"moved\",\"schools\",\"response\",\"wants\",\"individuals\",\"table\",\"extremely\",\"movie\",\"wait\",\"anyway\",\"follow\",\"medicine\",\"trust\",\"biggest\",\"plant\",\"watching\",\"organization\",\"creative\",\"road\",\"worse\",\"choose\",\"results\",\"500\",\"lead\",\"exciting\",\"grew\",\"materials\",\"jobs\",\"positive\",\"plan\",\"poverty\",\"east\",\"safe\",\"strong\",\"fall\",\"essentially\",\"door\",\"object\",\"vision\",\"son\",\"continue\",\"further\",\"happiness\",\"student\",\"doctor\",\"role\",\"including\",\"named\",\"objects\",\"extraordinary\",\"standing\",\"skin\",\"leaders\",\"usually\",\"projects\",\"african\",\"conversation\",\"models\",\"allowed\",\"supposed\",\"interest\",\"faster\",\"police\",\"families\",\"fight\",\"tree\",\"connected\",\"cases\",\"screen\",\"5\",\"somewhere\",\"goal\",\"shown\",\"buildings\",\"finding\"],\"x1\":{\"__ndarray__\":\"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\",\"dtype\":\"float64\",\"shape\":[1000]},\"x2\":{\"__ndarray__\":\"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\",\"dtype\":\"float64\",\"shape\":[1000]}}},\"id\":\"1761636c-975f-41c2-b0ef-773bd29da5ce\",\"type\":\"ColumnDataSource\"},{\"attributes\":{\"plot\":null,\"text\":\"word2vec T-SNE for most common words\"},\"id\":\"498c71ef-30ce-4cb2-b3d7-9c567ca0a132\",\"type\":\"Title\"},{\"attributes\":{},\"id\":\"6ef63d00-a80c-407a-8de4-353a19104334\",\"type\":\"BasicTicker\"},{\"attributes\":{\"dimension\":1,\"plot\":{\"id\":\"a8930784-e823-459a-a454-16536955a453\",\"subtype\":\"Figure\",\"type\":\"Plot\"},\"ticker\":{\"id\":\"6ef63d00-a80c-407a-8de4-353a19104334\",\"type\":\"BasicTicker\"}},\"id\":\"0864ca13-4841-4e5d-985b-8fe8ac0aeae6\",\"type\":\"Grid\"},{\"attributes\":{\"data_source\":{\"id\":\"1761636c-975f-41c2-b0ef-773bd29da5ce\",\"type\":\"ColumnDataSource\"},\"glyph\":{\"id\":\"5819c372-8b88-4792-bebe-65052eeaecbd\",\"type\":\"Circle\"},\"hover_glyph\":null,\"muted_glyph\":null,\"nonselection_glyph\":{\"id\":\"debfa8d3-e623-40e8-97ee-20bca923da19\",\"type\":\"Circle\"},\"selection_glyph\":null},\"id\":\"b6d91e44-affa-4e41-aa5b-be737b21a92c\",\"type\":\"GlyphRenderer\"},{\"attributes\":{\"callback\":null},\"id\":\"85ff1d36-e200-446d-acf6-5f73f72f02c2\",\"type\":\"DataRange1d\"},{\"attributes\":{},\"id\":\"5d93d248-ce00-4ddf-b342-718593e0d4f0\",\"type\":\"ToolEvents\"},{\"attributes\":{\"formatter\":{\"id\":\"0877ad13-6bab-4ff8-9101-7e767ff74515\",\"type\":\"BasicTickFormatter\"},\"plot\":{\"id\":\"a8930784-e823-459a-a454-16536955a453\",\"subtype\":\"Figure\",\"type\":\"Plot\"},\"ticker\":{\"id\":\"b3205288-31fb-4e5b-9d8e-32a4ebb529a8\",\"type\":\"BasicTicker\"}},\"id\":\"3c11272a-d3cc-4047-b078-bd2bd3b3f359\",\"type\":\"LinearAxis\"},{\"attributes\":{\"plot\":{\"id\":\"a8930784-e823-459a-a454-16536955a453\",\"subtype\":\"Figure\",\"type\":\"Plot\"}},\"id\":\"558cf09d-03e0-4aca-9ea8-1ac277deb90b\",\"type\":\"SaveTool\"},{\"attributes\":{},\"id\":\"b3205288-31fb-4e5b-9d8e-32a4ebb529a8\",\"type\":\"BasicTicker\"},{\"attributes\":{\"plot\":{\"id\":\"a8930784-e823-459a-a454-16536955a453\",\"subtype\":\"Figure\",\"type\":\"Plot\"}},\"id\":\"c6580e58-1584-48f1-8359-95f09b58ac25\",\"type\":\"WheelZoomTool\"},{\"attributes\":{\"plot\":{\"id\":\"a8930784-e823-459a-a454-16536955a453\",\"subtype\":\"Figure\",\"type\":\"Plot\"},\"ticker\":{\"id\":\"b3205288-31fb-4e5b-9d8e-32a4ebb529a8\",\"type\":\"BasicTicker\"}},\"id\":\"f6cc62be-1d90-451d-abd4-246d11b69a42\",\"type\":\"Grid\"},{\"attributes\":{},\"id\":\"d6f52a1f-d383-43c8-b86c-2ae180620adc\",\"type\":\"LinearScale\"},{\"attributes\":{},\"id\":\"0877ad13-6bab-4ff8-9101-7e767ff74515\",\"type\":\"BasicTickFormatter\"},{\"attributes\":{\"active_drag\":\"auto\",\"active_inspect\":\"auto\",\"active_scroll\":\"auto\",\"active_tap\":\"auto\",\"tools\":[{\"id\":\"92699386-4375-44ca-98a4-82ce7425bd31\",\"type\":\"PanTool\"},{\"id\":\"c6580e58-1584-48f1-8359-95f09b58ac25\",\"type\":\"WheelZoomTool\"},{\"id\":\"f7b109e6-1d65-42ca-83e4-0d45f7d17127\",\"type\":\"ResetTool\"},{\"id\":\"558cf09d-03e0-4aca-9ea8-1ac277deb90b\",\"type\":\"SaveTool\"}]},\"id\":\"a84feee9-08cd-4ab6-b690-c65bb33ca3fd\",\"type\":\"Toolbar\"},{\"attributes\":{\"plot\":{\"id\":\"a8930784-e823-459a-a454-16536955a453\",\"subtype\":\"Figure\",\"type\":\"Plot\"},\"source\":{\"id\":\"1761636c-975f-41c2-b0ef-773bd29da5ce\",\"type\":\"ColumnDataSource\"},\"text\":{\"field\":\"names\"},\"text_align\":\"center\",\"text_color\":{\"value\":\"#555555\"},\"text_font_size\":{\"value\":\"8pt\"},\"x\":{\"field\":\"x1\"},\"y\":{\"field\":\"x2\"},\"y_offset\":{\"value\":6}},\"id\":\"53263697-34de-41ef-8abe-5cc02c43048d\",\"type\":\"LabelSet\"},{\"attributes\":{\"formatter\":{\"id\":\"98f6c07a-2cc5-4f81-99b0-93dbe5917b51\",\"type\":\"BasicTickFormatter\"},\"plot\":{\"id\":\"a8930784-e823-459a-a454-16536955a453\",\"subtype\":\"Figure\",\"type\":\"Plot\"},\"ticker\":{\"id\":\"6ef63d00-a80c-407a-8de4-353a19104334\",\"type\":\"BasicTicker\"}},\"id\":\"46ab4fc4-a7b8-4710-b5ef-ea87c563293e\",\"type\":\"LinearAxis\"},{\"attributes\":{\"callback\":null},\"id\":\"c41d5a16-c74d-422b-8b40-54d611321f75\",\"type\":\"DataRange1d\"},{\"attributes\":{\"plot\":{\"id\":\"a8930784-e823-459a-a454-16536955a453\",\"subtype\":\"Figure\",\"type\":\"Plot\"}},\"id\":\"f7b109e6-1d65-42ca-83e4-0d45f7d17127\",\"type\":\"ResetTool\"},{\"attributes\":{\"fill_alpha\":{\"value\":0.1},\"fill_color\":{\"value\":\"#1f77b4\"},\"line_alpha\":{\"value\":0.1},\"line_color\":{\"value\":\"#1f77b4\"},\"size\":{\"units\":\"screen\",\"value\":8},\"x\":{\"field\":\"x1\"},\"y\":{\"field\":\"x2\"}},\"id\":\"debfa8d3-e623-40e8-97ee-20bca923da19\",\"type\":\"Circle\"},{\"attributes\":{},\"id\":\"98f6c07a-2cc5-4f81-99b0-93dbe5917b51\",\"type\":\"BasicTickFormatter\"},{\"attributes\":{\"plot\":{\"id\":\"a8930784-e823-459a-a454-16536955a453\",\"subtype\":\"Figure\",\"type\":\"Plot\"}},\"id\":\"92699386-4375-44ca-98a4-82ce7425bd31\",\"type\":\"PanTool\"}],\"root_ids\":[\"a8930784-e823-459a-a454-16536955a453\"]},\"title\":\"Bokeh Application\",\"version\":\"0.12.6\"}};\n",
       "            var render_items = [{\"docid\":\"0bd872b4-34f7-4859-9ef3-95bedd42411f\",\"elementid\":\"8bc4f648-58c5-4fc6-b92b-93a7ec98963d\",\"modelid\":\"a8930784-e823-459a-a454-16536955a453\"}];\n",
       "            \n",
       "            Bokeh.embed.embed_items(docs_json, render_items);\n",
       "          };\n",
       "          if (document.readyState != \"loading\") fn();\n",
       "          else document.addEventListener(\"DOMContentLoaded\", fn);\n",
       "        })();\n",
       "      },\n",
       "      function(Bokeh) {\n",
       "      }\n",
       "    ];\n",
       "  \n",
       "    function run_inline_js() {\n",
       "      \n",
       "      if ((window.Bokeh !== undefined) || (force === true)) {\n",
       "        for (var i = 0; i < inline_js.length; i++) {\n",
       "          inline_js[i](window.Bokeh);\n",
       "        }if (force === true) {\n",
       "          display_loaded();\n",
       "        }} else if (Date.now() < window._bokeh_timeout) {\n",
       "        setTimeout(run_inline_js, 100);\n",
       "      } else if (!window._bokeh_failed_load) {\n",
       "        console.log(\"Bokeh: BokehJS failed to load within specified timeout.\");\n",
       "        window._bokeh_failed_load = true;\n",
       "      } else if (force !== true) {\n",
       "        var cell = $(document.getElementById(\"8bc4f648-58c5-4fc6-b92b-93a7ec98963d\")).parents('.cell').data().cell;\n",
       "        cell.output_area.append_execute_result(NB_LOAD_WARNING)\n",
       "      }\n",
       "  \n",
       "    }\n",
       "  \n",
       "    if (window._bokeh_is_loading === 0) {\n",
       "      console.log(\"Bokeh: BokehJS loaded, going straight to plotting\");\n",
       "      run_inline_js();\n",
       "    } else {\n",
       "      load_libs(js_urls, function() {\n",
       "        console.log(\"Bokeh: BokehJS plotting callback run at\", now());\n",
       "        run_inline_js();\n",
       "      });\n",
       "    }\n",
       "  }(this));\n",
       "</script>"
      ]
     },
     "metadata": {},
     "output_type": "display_data"
    }
   ],
   "source": [
    "p = figure(tools=\"pan,wheel_zoom,reset,save\",\n",
    "           toolbar_location=\"above\",\n",
    "           title=\"word2vec T-SNE for most common words\")\n",
    "\n",
    "source = ColumnDataSource(data=dict(x1=words_top_ted_tsne[:,0],\n",
    "                                    x2=words_top_ted_tsne[:,1],\n",
    "                                    names=words_top_ted)) #'names':which word the point represents\n",
    "\n",
    "p.scatter(x=\"x1\", y=\"x2\", size=8, source=source)\n",
    "\n",
    "labels = LabelSet(x=\"x1\", y=\"x2\", text=\"names\", y_offset=6,\n",
    "                  text_font_size=\"8pt\", text_color=\"#555555\",\n",
    "                  source=source, text_align='center')\n",
    "p.add_layout(labels)\n",
    "\n",
    "show(p)"
   ]
  },
  {
   "cell_type": "markdown",
   "metadata": {},
   "source": [
    "---"
   ]
  },
  {
   "cell_type": "markdown",
   "metadata": {},
   "source": [
    "### Part 5: Wiki Learnt Representations"
   ]
  },
  {
   "cell_type": "markdown",
   "metadata": {},
   "source": [
    "Download dataset"
   ]
  },
  {
   "cell_type": "code",
   "execution_count": 24,
   "metadata": {
    "collapsed": true
   },
   "outputs": [],
   "source": [
    "if not os.path.isfile('wikitext-103-raw-v1.zip'):\n",
    "    urllib.urlretrieve(\"https://s3.amazonaws.com/research.metamind.io/wikitext/wikitext-103-raw-v1.zip\", filename=\"wikitext-103-raw-v1.zip\")"
   ]
  },
  {
   "cell_type": "code",
   "execution_count": 6,
   "metadata": {},
   "outputs": [],
   "source": [
    "with zipfile.ZipFile('wikitext-103-raw-v1.zip', 'r') as z:\n",
    "    #input_text = str(z.open('wikitext-103-raw/wiki.train.raw', 'r').read(), encoding='utf-8') # Thanks Robert Bastian\n",
    "    raw_text = z.open('wikitext-103-raw/wiki.train.raw').read()\n",
    "    input_text = raw_text.decode('utf-8')\n",
    "    del raw_text\n"
   ]
  },
  {
   "cell_type": "markdown",
   "metadata": {},
   "source": [
    "Preprocess sentences (note that it's important to remove small sentences for performance)"
   ]
  },
  {
   "cell_type": "code",
   "execution_count": 7,
   "metadata": {
    "collapsed": true
   },
   "outputs": [],
   "source": [
    "sentences_wiki = []\n",
    "for line in input_text.split('\\n'):\n",
    "    s = [x for x in line.split('.') if x and len(x.split()) >= 5]\n",
    "    sentences_wiki.extend(s)\n",
    "    \n",
    "for s_i in range(len(sentences_wiki)):\n",
    "    sentences_wiki[s_i] = re.sub(\"[^a-z]\", \" \", sentences_wiki[s_i].lower()) #only reserve alpha characters\n",
    "    sentences_wiki[s_i] = re.sub(r'\\([^)]*\\)', '', sentences_wiki[s_i]) #remove parenthesis\n",
    "del input_text"
   ]
  },
  {
   "cell_type": "code",
   "execution_count": 8,
   "metadata": {},
   "outputs": [
    {
     "name": "stdout",
     "output_type": "stream",
     "text": [
      "4267112\n",
      "853422\n"
     ]
    }
   ],
   "source": [
    "# sample 1/5 of the data\n",
    "shuffle(sentences_wiki)\n",
    "print(len(sentences_wiki))\n",
    "sentences_wiki = sentences_wiki[:int(len(sentences_wiki)/5)]\n",
    "print(len(sentences_wiki))"
   ]
  },
  {
   "cell_type": "markdown",
   "metadata": {},
   "source": [
    "Now, repeat all the same steps that you performed above. You should be able to reuse essentially all the code."
   ]
  },
  {
   "cell_type": "code",
   "execution_count": 9,
   "metadata": {
    "collapsed": true
   },
   "outputs": [],
   "source": [
    "cc = Counter()\n",
    "for sent in sentences_wiki:\n",
    "    for word in sent:\n",
    "        cc[word] += 1\n",
    "words_top_wiki = [tuple[0] for tuple in cc.most_common(1000)] #top 1000 words\n",
    "#counts_wiki_top1000 = [tuple[1] for tuple in cc.most_common(1000)] #top 1000 counts of word"
   ]
  },
  {
   "cell_type": "code",
   "execution_count": 12,
   "metadata": {},
   "outputs": [],
   "source": [
    "if not os.path.isfile('./tmp/myWord2Vec_wiki'):\n",
    "    model_wiki = Word2Vec(sentences_wiki, size=100, min_count=10)\n",
    "    model_wiki.save('./tmp/myWord2Vec_wiki')\n",
    "else:\n",
    "    model_wiki = Word2Vec.load('./tmp/myWord2Vec_wiki')\n"
   ]
  },
  {
   "cell_type": "code",
   "execution_count": 18,
   "metadata": {},
   "outputs": [
    {
     "name": "stdout",
     "output_type": "stream",
     "text": [
      "   elfman  s work schedule was    hours a day     days a week \n"
     ]
    }
   ],
   "source": [
    "print sentences_wiki[16] #strange output of each element sentence??"
   ]
  },
  {
   "cell_type": "markdown",
   "metadata": {},
   "source": [
    "#### t-SNE visualization"
   ]
  },
  {
   "cell_type": "code",
   "execution_count": 20,
   "metadata": {},
   "outputs": [],
   "source": [
    "# This assumes words_top_wiki is a list of strings, the top 1000 words\n",
    "words_top_vec_wiki = model_wiki[words_top_wiki]\n",
    "\n",
    "tsne = TSNE(n_components=2, random_state=0)\n",
    "words_top_wiki_tsne = tsne.fit_transform(words_top_vec_wiki)"
   ]
  },
  {
   "cell_type": "code",
   "execution_count": 21,
   "metadata": {},
   "outputs": [
    {
     "data": {
      "text/html": [
       "\n",
       "\n",
       "    <div class=\"bk-root\">\n",
       "        <div class=\"bk-plotdiv\" id=\"eee3c54b-5780-45a5-b972-e98b8dcb19f0\"></div>\n",
       "    </div>\n",
       "<script type=\"text/javascript\">\n",
       "  \n",
       "  (function(global) {\n",
       "    function now() {\n",
       "      return new Date();\n",
       "    }\n",
       "  \n",
       "    var force = false;\n",
       "  \n",
       "    if (typeof (window._bokeh_onload_callbacks) === \"undefined\" || force === true) {\n",
       "      window._bokeh_onload_callbacks = [];\n",
       "      window._bokeh_is_loading = undefined;\n",
       "    }\n",
       "  \n",
       "  \n",
       "    \n",
       "    if (typeof (window._bokeh_timeout) === \"undefined\" || force === true) {\n",
       "      window._bokeh_timeout = Date.now() + 0;\n",
       "      window._bokeh_failed_load = false;\n",
       "    }\n",
       "  \n",
       "    var NB_LOAD_WARNING = {'data': {'text/html':\n",
       "       \"<div style='background-color: #fdd'>\\n\"+\n",
       "       \"<p>\\n\"+\n",
       "       \"BokehJS does not appear to have successfully loaded. If loading BokehJS from CDN, this \\n\"+\n",
       "       \"may be due to a slow or bad network connection. Possible fixes:\\n\"+\n",
       "       \"</p>\\n\"+\n",
       "       \"<ul>\\n\"+\n",
       "       \"<li>re-rerun `output_notebook()` to attempt to load from CDN again, or</li>\\n\"+\n",
       "       \"<li>use INLINE resources instead, as so:</li>\\n\"+\n",
       "       \"</ul>\\n\"+\n",
       "       \"<code>\\n\"+\n",
       "       \"from bokeh.resources import INLINE\\n\"+\n",
       "       \"output_notebook(resources=INLINE)\\n\"+\n",
       "       \"</code>\\n\"+\n",
       "       \"</div>\"}};\n",
       "  \n",
       "    function display_loaded() {\n",
       "      if (window.Bokeh !== undefined) {\n",
       "        var el = document.getElementById(\"eee3c54b-5780-45a5-b972-e98b8dcb19f0\");\n",
       "        el.textContent = \"BokehJS \" + Bokeh.version + \" successfully loaded.\";\n",
       "      } else if (Date.now() < window._bokeh_timeout) {\n",
       "        setTimeout(display_loaded, 100)\n",
       "      }\n",
       "    }\n",
       "  \n",
       "    function run_callbacks() {\n",
       "      try {\n",
       "        window._bokeh_onload_callbacks.forEach(function(callback) { callback() });\n",
       "      }\n",
       "      finally {\n",
       "        delete window._bokeh_onload_callbacks\n",
       "      }\n",
       "      console.info(\"Bokeh: all callbacks have finished\");\n",
       "    }\n",
       "  \n",
       "    function load_libs(js_urls, callback) {\n",
       "      window._bokeh_onload_callbacks.push(callback);\n",
       "      if (window._bokeh_is_loading > 0) {\n",
       "        console.log(\"Bokeh: BokehJS is being loaded, scheduling callback at\", now());\n",
       "        return null;\n",
       "      }\n",
       "      if (js_urls == null || js_urls.length === 0) {\n",
       "        run_callbacks();\n",
       "        return null;\n",
       "      }\n",
       "      console.log(\"Bokeh: BokehJS not loaded, scheduling load and callback at\", now());\n",
       "      window._bokeh_is_loading = js_urls.length;\n",
       "      for (var i = 0; i < js_urls.length; i++) {\n",
       "        var url = js_urls[i];\n",
       "        var s = document.createElement('script');\n",
       "        s.src = url;\n",
       "        s.async = false;\n",
       "        s.onreadystatechange = s.onload = function() {\n",
       "          window._bokeh_is_loading--;\n",
       "          if (window._bokeh_is_loading === 0) {\n",
       "            console.log(\"Bokeh: all BokehJS libraries loaded\");\n",
       "            run_callbacks()\n",
       "          }\n",
       "        };\n",
       "        s.onerror = function() {\n",
       "          console.warn(\"failed to load library \" + url);\n",
       "        };\n",
       "        console.log(\"Bokeh: injecting script tag for BokehJS library: \", url);\n",
       "        document.getElementsByTagName(\"head\")[0].appendChild(s);\n",
       "      }\n",
       "    };var element = document.getElementById(\"eee3c54b-5780-45a5-b972-e98b8dcb19f0\");\n",
       "    if (element == null) {\n",
       "      console.log(\"Bokeh: ERROR: autoload.js configured with elementid 'eee3c54b-5780-45a5-b972-e98b8dcb19f0' but no matching script tag was found. \")\n",
       "      return false;\n",
       "    }\n",
       "  \n",
       "    var js_urls = [];\n",
       "  \n",
       "    var inline_js = [\n",
       "      function(Bokeh) {\n",
       "        (function() {\n",
       "          var fn = function() {\n",
       "            var docs_json = {\"1fc8074b-f268-4b4a-86b0-dd85f4cadf6b\":{\"roots\":{\"references\":[{\"attributes\":{\"callback\":null},\"id\":\"fe2e61ab-be49-4698-b25e-8b6456322850\",\"type\":\"DataRange1d\"},{\"attributes\":{\"fill_alpha\":{\"value\":0.1},\"fill_color\":{\"value\":\"#1f77b4\"},\"line_alpha\":{\"value\":0.1},\"line_color\":{\"value\":\"#1f77b4\"},\"size\":{\"units\":\"screen\",\"value\":8},\"x\":{\"field\":\"x1\"},\"y\":{\"field\":\"x2\"}},\"id\":\"7e868f80-9ebd-4800-909b-7df5fd9be3a1\",\"type\":\"Circle\"},{\"attributes\":{\"formatter\":{\"id\":\"ec870dee-cf99-44a3-bc24-bc7a9028b470\",\"type\":\"BasicTickFormatter\"},\"plot\":{\"id\":\"9274fd21-1151-42de-9af4-2c1297cb6545\",\"subtype\":\"Figure\",\"type\":\"Plot\"},\"ticker\":{\"id\":\"35c5f08d-e4f0-490e-9c64-7774778e96c3\",\"type\":\"BasicTicker\"}},\"id\":\"4c9a9c09-306f-4a00-9bf7-8948e2daa8d9\",\"type\":\"LinearAxis\"},{\"attributes\":{},\"id\":\"01dfec09-ef61-4ac9-83e6-7997da102321\",\"type\":\"LinearScale\"},{\"attributes\":{\"active_drag\":\"auto\",\"active_inspect\":\"auto\",\"active_scroll\":\"auto\",\"active_tap\":\"auto\",\"tools\":[{\"id\":\"1b979485-b5ff-4398-9691-485af75b9620\",\"type\":\"PanTool\"},{\"id\":\"8b4ab825-9017-4c5a-b795-ec966ccb2c9c\",\"type\":\"WheelZoomTool\"},{\"id\":\"7a3c5102-a98d-46be-ae84-91190e7407fa\",\"type\":\"ResetTool\"},{\"id\":\"e1339809-4e31-41d4-bffb-7d56333e4d89\",\"type\":\"SaveTool\"}]},\"id\":\"54e296e7-7934-41eb-afa4-6db8a7ab3d73\",\"type\":\"Toolbar\"},{\"attributes\":{\"fill_color\":{\"value\":\"#1f77b4\"},\"line_color\":{\"value\":\"#1f77b4\"},\"size\":{\"units\":\"screen\",\"value\":8},\"x\":{\"field\":\"x1\"},\"y\":{\"field\":\"x2\"}},\"id\":\"750d4b79-1099-4e3a-8535-098d336806be\",\"type\":\"Circle\"},{\"attributes\":{\"plot\":{\"id\":\"9274fd21-1151-42de-9af4-2c1297cb6545\",\"subtype\":\"Figure\",\"type\":\"Plot\"},\"ticker\":{\"id\":\"35c5f08d-e4f0-490e-9c64-7774778e96c3\",\"type\":\"BasicTicker\"}},\"id\":\"9107a5ea-3e85-430a-ae11-33b5adb2deb1\",\"type\":\"Grid\"},{\"attributes\":{\"data_source\":{\"id\":\"13bf7175-46fd-49c2-86bc-dd2701eeb917\",\"type\":\"ColumnDataSource\"},\"glyph\":{\"id\":\"750d4b79-1099-4e3a-8535-098d336806be\",\"type\":\"Circle\"},\"hover_glyph\":null,\"muted_glyph\":null,\"nonselection_glyph\":{\"id\":\"7e868f80-9ebd-4800-909b-7df5fd9be3a1\",\"type\":\"Circle\"},\"selection_glyph\":null},\"id\":\"ec04a24e-a07f-427b-9ec9-2ce6e370a84f\",\"type\":\"GlyphRenderer\"},{\"attributes\":{\"plot\":null,\"text\":\"word2vec T-SNE for most common words\"},\"id\":\"05dbd882-d652-4bc8-b9e4-ebcabdd557c0\",\"type\":\"Title\"},{\"attributes\":{\"plot\":{\"id\":\"9274fd21-1151-42de-9af4-2c1297cb6545\",\"subtype\":\"Figure\",\"type\":\"Plot\"}},\"id\":\"1b979485-b5ff-4398-9691-485af75b9620\",\"type\":\"PanTool\"},{\"attributes\":{\"plot\":{\"id\":\"9274fd21-1151-42de-9af4-2c1297cb6545\",\"subtype\":\"Figure\",\"type\":\"Plot\"}},\"id\":\"8b4ab825-9017-4c5a-b795-ec966ccb2c9c\",\"type\":\"WheelZoomTool\"},{\"attributes\":{\"callback\":null,\"column_names\":[\"x2\",\"x1\",\"names\"],\"data\":{\"names\":[\" \",\"e\",\"t\",\"a\",\"i\",\"n\",\"o\",\"r\",\"s\",\"h\",\"l\",\"d\",\"c\",\"u\",\"m\",\"f\",\"g\",\"p\",\"w\",\"b\",\"y\",\"v\",\"k\",\"j\",\"x\",\"z\",\"q\"],\"x1\":{\"__ndarray__\":\"hNed5vEPJz+IaJYvHZQZP2jEK7bHZCg/TnnD/6PaGD99jnPMM27lvuW2/40dHO4+BoAdS8LoEz8ZLtg/8DkHP3J1xoS2hCM/zzyS+4NjAD975JDxDakwv3vZr3c2nBY/+EGzKaahLT95LB8DhkjTPmhPjvz6CiQ/ZWIujRE98D4sxlX54CwXv0x6IlLJNwK/Fj3bqw0UID/DIk9XEEAEvxpWqefFYRu/uXIVa41GJr+SuYypCawKv+541gW+XCC/0Xp5uKMYJb+FA0C/3mwXvyU6UKOtsgq/\",\"dtype\":\"float64\",\"shape\":[27]},\"x2\":{\"__ndarray__\":\"R7jOfWHyBD9o3klNi0QtPyQx8HZlhRm/eU8qW5OU776O6WsKNIgFPxBIacUyBSM/MoPxl+CS6T7T1Cmftn8BP4XS+//0cvW+vn0RZxBdFr+mRx/A4xURP2P5CekJaxO/bfOwajwAI78CkuhUK5jzvrRuujpmNyM/jYvhksTQAz+WMR2CWt0pv5Khc1i2YvA+EypCXP96Hz+YvOnDdKT/vpt+y4MzkSK/cHIcKDt+KT8ruy6m6u8Gv8pFdltGWBQ/P9fLO4Ep9r6NE1WXPToEP/LR2uA55B6/\",\"dtype\":\"float64\",\"shape\":[27]}}},\"id\":\"13bf7175-46fd-49c2-86bc-dd2701eeb917\",\"type\":\"ColumnDataSource\"},{\"attributes\":{\"formatter\":{\"id\":\"93904fc0-c56a-439f-bb5b-95df54636112\",\"type\":\"BasicTickFormatter\"},\"plot\":{\"id\":\"9274fd21-1151-42de-9af4-2c1297cb6545\",\"subtype\":\"Figure\",\"type\":\"Plot\"},\"ticker\":{\"id\":\"6f69f31a-9aca-445d-b8bc-530421d91939\",\"type\":\"BasicTicker\"}},\"id\":\"6d991099-f4b5-4907-ba47-8ac47a6973e9\",\"type\":\"LinearAxis\"},{\"attributes\":{\"plot\":{\"id\":\"9274fd21-1151-42de-9af4-2c1297cb6545\",\"subtype\":\"Figure\",\"type\":\"Plot\"},\"source\":{\"id\":\"13bf7175-46fd-49c2-86bc-dd2701eeb917\",\"type\":\"ColumnDataSource\"},\"text\":{\"field\":\"names\"},\"text_align\":\"center\",\"text_color\":{\"value\":\"#555555\"},\"text_font_size\":{\"value\":\"8pt\"},\"x\":{\"field\":\"x1\"},\"y\":{\"field\":\"x2\"},\"y_offset\":{\"value\":6}},\"id\":\"a41e13c7-218b-4ef2-b2f4-629b07b425c0\",\"type\":\"LabelSet\"},{\"attributes\":{\"dimension\":1,\"plot\":{\"id\":\"9274fd21-1151-42de-9af4-2c1297cb6545\",\"subtype\":\"Figure\",\"type\":\"Plot\"},\"ticker\":{\"id\":\"6f69f31a-9aca-445d-b8bc-530421d91939\",\"type\":\"BasicTicker\"}},\"id\":\"0289915e-0a58-427b-836d-b4bbe9e4b2c3\",\"type\":\"Grid\"},{\"attributes\":{},\"id\":\"35c5f08d-e4f0-490e-9c64-7774778e96c3\",\"type\":\"BasicTicker\"},{\"attributes\":{},\"id\":\"6f69f31a-9aca-445d-b8bc-530421d91939\",\"type\":\"BasicTicker\"},{\"attributes\":{},\"id\":\"ec870dee-cf99-44a3-bc24-bc7a9028b470\",\"type\":\"BasicTickFormatter\"},{\"attributes\":{},\"id\":\"f9a7d5a7-6c21-4229-bc3f-3cf8966aa0e4\",\"type\":\"ToolEvents\"},{\"attributes\":{\"below\":[{\"id\":\"4c9a9c09-306f-4a00-9bf7-8948e2daa8d9\",\"type\":\"LinearAxis\"}],\"left\":[{\"id\":\"6d991099-f4b5-4907-ba47-8ac47a6973e9\",\"type\":\"LinearAxis\"}],\"renderers\":[{\"id\":\"4c9a9c09-306f-4a00-9bf7-8948e2daa8d9\",\"type\":\"LinearAxis\"},{\"id\":\"9107a5ea-3e85-430a-ae11-33b5adb2deb1\",\"type\":\"Grid\"},{\"id\":\"6d991099-f4b5-4907-ba47-8ac47a6973e9\",\"type\":\"LinearAxis\"},{\"id\":\"0289915e-0a58-427b-836d-b4bbe9e4b2c3\",\"type\":\"Grid\"},{\"id\":\"ec04a24e-a07f-427b-9ec9-2ce6e370a84f\",\"type\":\"GlyphRenderer\"},{\"id\":\"a41e13c7-218b-4ef2-b2f4-629b07b425c0\",\"type\":\"LabelSet\"}],\"title\":{\"id\":\"05dbd882-d652-4bc8-b9e4-ebcabdd557c0\",\"type\":\"Title\"},\"tool_events\":{\"id\":\"f9a7d5a7-6c21-4229-bc3f-3cf8966aa0e4\",\"type\":\"ToolEvents\"},\"toolbar\":{\"id\":\"54e296e7-7934-41eb-afa4-6db8a7ab3d73\",\"type\":\"Toolbar\"},\"toolbar_location\":\"above\",\"x_range\":{\"id\":\"935f1fff-8200-4850-b6f4-d6c96549ee92\",\"type\":\"DataRange1d\"},\"x_scale\":{\"id\":\"57f8ef20-fde1-4309-bd0d-5d6f9ed2ca52\",\"type\":\"LinearScale\"},\"y_range\":{\"id\":\"fe2e61ab-be49-4698-b25e-8b6456322850\",\"type\":\"DataRange1d\"},\"y_scale\":{\"id\":\"01dfec09-ef61-4ac9-83e6-7997da102321\",\"type\":\"LinearScale\"}},\"id\":\"9274fd21-1151-42de-9af4-2c1297cb6545\",\"subtype\":\"Figure\",\"type\":\"Plot\"},{\"attributes\":{},\"id\":\"57f8ef20-fde1-4309-bd0d-5d6f9ed2ca52\",\"type\":\"LinearScale\"},{\"attributes\":{},\"id\":\"93904fc0-c56a-439f-bb5b-95df54636112\",\"type\":\"BasicTickFormatter\"},{\"attributes\":{\"plot\":{\"id\":\"9274fd21-1151-42de-9af4-2c1297cb6545\",\"subtype\":\"Figure\",\"type\":\"Plot\"}},\"id\":\"e1339809-4e31-41d4-bffb-7d56333e4d89\",\"type\":\"SaveTool\"},{\"attributes\":{\"callback\":null},\"id\":\"935f1fff-8200-4850-b6f4-d6c96549ee92\",\"type\":\"DataRange1d\"},{\"attributes\":{\"plot\":{\"id\":\"9274fd21-1151-42de-9af4-2c1297cb6545\",\"subtype\":\"Figure\",\"type\":\"Plot\"}},\"id\":\"7a3c5102-a98d-46be-ae84-91190e7407fa\",\"type\":\"ResetTool\"}],\"root_ids\":[\"9274fd21-1151-42de-9af4-2c1297cb6545\"]},\"title\":\"Bokeh Application\",\"version\":\"0.12.6\"}};\n",
       "            var render_items = [{\"docid\":\"1fc8074b-f268-4b4a-86b0-dd85f4cadf6b\",\"elementid\":\"eee3c54b-5780-45a5-b972-e98b8dcb19f0\",\"modelid\":\"9274fd21-1151-42de-9af4-2c1297cb6545\"}];\n",
       "            \n",
       "            Bokeh.embed.embed_items(docs_json, render_items);\n",
       "          };\n",
       "          if (document.readyState != \"loading\") fn();\n",
       "          else document.addEventListener(\"DOMContentLoaded\", fn);\n",
       "        })();\n",
       "      },\n",
       "      function(Bokeh) {\n",
       "      }\n",
       "    ];\n",
       "  \n",
       "    function run_inline_js() {\n",
       "      \n",
       "      if ((window.Bokeh !== undefined) || (force === true)) {\n",
       "        for (var i = 0; i < inline_js.length; i++) {\n",
       "          inline_js[i](window.Bokeh);\n",
       "        }if (force === true) {\n",
       "          display_loaded();\n",
       "        }} else if (Date.now() < window._bokeh_timeout) {\n",
       "        setTimeout(run_inline_js, 100);\n",
       "      } else if (!window._bokeh_failed_load) {\n",
       "        console.log(\"Bokeh: BokehJS failed to load within specified timeout.\");\n",
       "        window._bokeh_failed_load = true;\n",
       "      } else if (force !== true) {\n",
       "        var cell = $(document.getElementById(\"eee3c54b-5780-45a5-b972-e98b8dcb19f0\")).parents('.cell').data().cell;\n",
       "        cell.output_area.append_execute_result(NB_LOAD_WARNING)\n",
       "      }\n",
       "  \n",
       "    }\n",
       "  \n",
       "    if (window._bokeh_is_loading === 0) {\n",
       "      console.log(\"Bokeh: BokehJS loaded, going straight to plotting\");\n",
       "      run_inline_js();\n",
       "    } else {\n",
       "      load_libs(js_urls, function() {\n",
       "        console.log(\"Bokeh: BokehJS plotting callback run at\", now());\n",
       "        run_inline_js();\n",
       "      });\n",
       "    }\n",
       "  }(this));\n",
       "</script>"
      ]
     },
     "metadata": {},
     "output_type": "display_data"
    }
   ],
   "source": [
    "p = figure(tools=\"pan,wheel_zoom,reset,save\",\n",
    "           toolbar_location=\"above\",\n",
    "           title=\"word2vec T-SNE for most common words\")\n",
    "\n",
    "source = ColumnDataSource(data=dict(x1=words_top_wiki_tsne[:,0],\n",
    "                                    x2=words_top_wiki_tsne[:,1],\n",
    "                                    names=words_top_wiki))\n",
    "\n",
    "p.scatter(x=\"x1\", y=\"x2\", size=8, source=source)\n",
    "\n",
    "labels = LabelSet(x=\"x1\", y=\"x2\", text=\"names\", y_offset=6,\n",
    "                  text_font_size=\"8pt\", text_color=\"#555555\",\n",
    "                  source=source, text_align='center')\n",
    "p.add_layout(labels)\n",
    "\n",
    "show(p)"
   ]
  }
 ],
 "metadata": {
  "anaconda-cloud": {},
  "kernelspec": {
   "display_name": "Python 2",
   "language": "python",
   "name": "python2"
  },
  "language_info": {
   "codemirror_mode": {
    "name": "ipython",
    "version": 2
   },
   "file_extension": ".py",
   "mimetype": "text/x-python",
   "name": "python",
   "nbconvert_exporter": "python",
   "pygments_lexer": "ipython2",
   "version": "2.7.13"
  }
 },
 "nbformat": 4,
 "nbformat_minor": 1
}
